{
  "cells": [
    {
      "cell_type": "markdown",
      "metadata": {
        "id": "view-in-github",
        "colab_type": "text"
      },
      "source": [
        "<a href=\"https://colab.research.google.com/github/dis-craft/Python/blob/main/IPYNB/sem1_final_practice.ipynb\" target=\"_parent\"><img src=\"https://colab.research.google.com/assets/colab-badge.svg\" alt=\"Open In Colab\"/></a>"
      ]
    },
    {
      "cell_type": "markdown",
      "source": [
        "## **2.2 ANGLE BETWEEN TWO POLAR CURVES: | ϕ1 - ϕ2 |**\n",
        "\n",
        "Q1: curve1 = 4 * (1 + cos(t))  \n",
        "    curve2 = 5 * (1 - cos(t))\n",
        "\n",
        "Q2: r = 4 cost and r = 5 sin t."
      ],
      "metadata": {
        "id": "2KBjgNANAq1a"
      }
    },
    {
      "cell_type": "code",
      "execution_count": 35,
      "metadata": {
        "colab": {
          "base_uri": "https://localhost:8080/"
        },
        "id": "oiO0Jkm78IBm",
        "outputId": "ad1cf4e3-7934-4d75-c8e7-adc3c0940536"
      },
      "outputs": [
        {
          "output_type": "stream",
          "name": "stdout",
          "text": [
            "Solutions for t where curves intersect: [-acos(1/9) + 2*pi, acos(1/9)]\n",
            "At t = 1.4594553124539327\n",
            "φ₁ = -0.841068670567930\n",
            "φ₂ = 0.729727656226966\n",
            "Absolute value of φ₁ - φ₂ = 1.57079632679490\n"
          ]
        }
      ],
      "source": [
        "from sympy import *\n",
        "\n",
        "t = symbols('t')\n",
        "\n",
        "curve1 = 4 * (1 + cos(t))\n",
        "curve2 = 5 * (1 - cos(t))\n",
        "\n",
        "diffcurve1 = diff(curve1, t)\n",
        "diffcurve2 = diff(curve2, t)\n",
        "\n",
        "# φ = atan( r / (dr/dt) )\n",
        "phi1 = atan(curve1 / diffcurve1)\n",
        "phi2 = atan(curve2 / diffcurve2)\n",
        "\n",
        "# Solve for t where the curves intersect\n",
        "solutions = solve(curve1 - curve2, t)\n",
        "print(\"Solutions for t where curves intersect:\", solutions)\n",
        "\n",
        "\n",
        "t_val = float(solutions[1])  # take the second solution in float form.\n",
        "\n",
        "# Substitute the value of t in φ₁ and φ₂\n",
        "phi1_val = phi1.subs(t, t_val)\n",
        "phi2_val = phi2.subs(t, t_val)\n",
        "\n",
        "angle_diff = Abs(phi1_val - phi2_val)\n",
        "\n",
        "print(\"At t =\", t_val)\n",
        "print(\"φ₁ =\", (phi1_val))\n",
        "print(\"φ₂ =\", (phi2_val))\n",
        "print(\"Absolute value of φ₁ - φ₂ =\", (angle_diff))\n",
        "\n",
        "# OUTPUT:\n",
        "# Solutions for t where curves intersect: [-acos(1/9) + 2*pi, acos(1/9)]\n",
        "# At t = 1.4594553124539327\n",
        "# φ₁ = -0.841068670567930\n",
        "# φ₂ = 0.729727656226966\n",
        "# Absolute value of φ₁ - φ₂ = 1.57079632679490"
      ]
    },
    {
      "cell_type": "code",
      "source": [
        "# Find the angle between the curves r = 4 cost and r = 5 sin t.\n",
        "\n",
        "from sympy import *\n",
        "\n",
        "t = Symbol('t')\n",
        "\n",
        "curve1 = 4*(cos(t))\n",
        "curve2 = 5*(sin(t))\n",
        "\n",
        "diffcurve1 = diff(curve1,t)\n",
        "diffcurve2 = diff(curve2,t)\n",
        "\n",
        "phi1 = atan(curve1/diffcurve1)\n",
        "phi2 = atan(curve2/diffcurve2)\n",
        "\n",
        "solutions = solve(curve1-curve2,t)\n",
        "\n",
        "t_val = float(solutions[0])\n",
        "\n",
        "phi1val = phi1.subs(t,t_val)\n",
        "phi2val = phi2.subs(t,t_val)\n",
        "\n",
        "angle_difference = Abs(phi1val-phi2val)\n",
        "print(\"At t =\", t_val)\n",
        "print(\"φ₁ =\", (phi1val))\n",
        "print(\"φ₂ =\", (phi2val))\n",
        "print(\"Absolute value of φ₁ - φ₂ =\", (angle_difference))\n",
        "\n",
        "# OUTPUT:\n",
        "# At t = 0.6747409422235526\n",
        "# φ₁ = -0.896055384571344\n",
        "# φ₂ = 0.674740942223553\n",
        "# Absolute value of φ₁ - φ₂ = 1.57079632679490"
      ],
      "metadata": {
        "colab": {
          "base_uri": "https://localhost:8080/"
        },
        "id": "nTXHgdxnEZWC",
        "outputId": "b05ed781-745e-4b34-956d-8921a9d464c3"
      },
      "execution_count": 34,
      "outputs": [
        {
          "output_type": "stream",
          "name": "stdout",
          "text": [
            "At t = 0.6747409422235526\n",
            "φ₁ = -0.896055384571344\n",
            "φ₂ = 0.674740942223553\n",
            "Absolute value of φ₁ - φ₂ = 1.57079632679490\n"
          ]
        }
      ]
    },
    {
      "cell_type": "markdown",
      "source": [
        "## EXCERCISE QUESTIONS FOR ANGLE B/W CURVES\n",
        "\n",
        " 1. Find the angle between radius vector and tangent to the folloing polar curves\n",
        "\n",
        " a) r = aθ and r = a/θ\n",
        " Ans: Angle between curves in radians is 90.000\n",
        "\n",
        " b) r = 2sin(θ) and r = 2cos(θ)\n",
        " Ans: Angle between curves in radians is 90.000\n"
      ],
      "metadata": {
        "id": "eACFP2xYK0-Z"
      }
    },
    {
      "cell_type": "code",
      "source": [
        "# a) r = aθ and r = a/θ\n",
        "\n",
        "from sympy import *\n",
        "\n",
        "a,t = symbols('a,t')\n",
        "\n",
        "curve1 = a*t\n",
        "curve2 = a/t\n",
        "\n",
        "diffcurve1 = diff(curve1 ,t)\n",
        "diffcurve2 = diff(curve2 ,t)\n",
        "\n",
        "phi1 = atan(curve1/diffcurve1)\n",
        "phi2 = atan(curve2/diffcurve2)\n",
        "\n",
        "solutions = solve(curve1-curve2,t)\n",
        "\n",
        "t_val = float(solutions[1])\n",
        "\n",
        "phi1val = phi1.subs(t, t_val)\n",
        "phi2val = phi2.subs(t, t_val)\n",
        "\n",
        "angle_diff = Abs(phi1val-phi2val)\n",
        "angle_degrees = angle_diff * (180 / pi)\n",
        "\n",
        "print(\"Absolute value of φ₁ - φ₂ in radians =\", (angle_diff))\n",
        "print(\"Absolute value of φ₁ - φ₂ in degrees =\", (angle_degrees))"
      ],
      "metadata": {
        "colab": {
          "base_uri": "https://localhost:8080/"
        },
        "id": "TueCLH__KSSk",
        "outputId": "58a6efc1-a796-48c0-c2d2-8215698c18ba"
      },
      "execution_count": 47,
      "outputs": [
        {
          "output_type": "stream",
          "name": "stdout",
          "text": [
            "Absolute value of φ₁ - φ₂ in radians = 1.57079632679490\n",
            "Absolute value of φ₁ - φ₂ in degrees = 282.743338823081/pi\n"
          ]
        }
      ]
    },
    {
      "cell_type": "code",
      "source": [
        "# b) r = 2sin(θ) and r = 2cos(θ) Ans: Angle between curves in radians is 90.000\n",
        "\n",
        "from sympy import *\n",
        "\n",
        "r,t = symbols('r,t')\n",
        "\n",
        "r1 = 2*sin(t)\n",
        "r2 = 2*cos(t)\n",
        "\n",
        "dr1 = diff(r1,t)\n",
        "dr2 = diff(r2,t)\n",
        "\n",
        "phi1 = atan(r1/dr1)\n",
        "phi2 = atan(r2/dr2)\n",
        "\n",
        "solutions = solve(r1-r2, t)\n",
        "\n",
        "tval = float(solutions[0])\n",
        "\n",
        "phi1val = phi1.subs(t,tval)\n",
        "phi2val = phi2.subs(t,tval)\n",
        "\n",
        "angle_diff = Abs(phi1val-phi2val)\n",
        "angle_degrees = angle_diff * (180 / pi)\n",
        "\n",
        "print(angle_diff)\n",
        "print(N(angle_degrees))"
      ],
      "metadata": {
        "colab": {
          "base_uri": "https://localhost:8080/"
        },
        "id": "qL4SV-51QHWe",
        "outputId": "97e67edd-b16e-49a3-e117-20fdd7ccb523"
      },
      "execution_count": 51,
      "outputs": [
        {
          "output_type": "stream",
          "name": "stdout",
          "text": [
            "1.57079632679490\n",
            "90.0000000000000\n"
          ]
        }
      ]
    },
    {
      "cell_type": "markdown",
      "source": [
        "## RADIUS OF CURVATURE(PARAMETRIC FORM):\n",
        "\n",
        "Q1: Find radius of curvature of x = acos(t), y = asin(t). <br>\n",
        "Q2: Find the radius of curvature of y = (asin(t))3/2; x = (acos(t))3/2.\n"
      ],
      "metadata": {
        "id": "HzmMD4k-SrLR"
      }
    },
    {
      "cell_type": "code",
      "source": [
        "# Q1: Find radius of curvature of x = acos(t), y = asin(t).\n",
        "\n",
        "from sympy import *\n",
        "\n",
        "a,t = symbols('a,t')\n",
        "\n",
        "x = a*cos(t)\n",
        "y = a*sin(t)\n",
        "\n",
        "dx_dt = diff(x,t)\n",
        "dy_dt = diff(y,t)\n",
        "\n",
        "ddxdt = diff(dx_dt,t)\n",
        "ddydt = diff(dy_dt,t)\n",
        "\n",
        "rho = simplify(( (dx_dt)**2 + (dy_dt)**2 )**1.5/(ddydt*dx_dt - ddxdt*dy_dt))\n",
        "\n",
        "display(simplify(rho))\n",
        "\n",
        "t1=pi/2\n",
        "r1=5\n",
        "\n",
        "rhosubsr = rho.subs(a,r1)\n",
        "rhosubst = rhosubsr.subs(t,t1)\n",
        "\n",
        "print ('\\nRadius of curvature at r=5 and t= pi/2 is ', simplify(rhosubst)) ;\n",
        "\n",
        "print ('\\n Curvature at (5,pi/2) is ',float ( 1/rhosubst ) )\n"
      ],
      "metadata": {
        "colab": {
          "base_uri": "https://localhost:8080/",
          "height": 111
        },
        "id": "kyUVn2EdSfyY",
        "outputId": "469d2606-a071-49c9-e4e6-b4ea0fd60de6"
      },
      "execution_count": 72,
      "outputs": [
        {
          "output_type": "display_data",
          "data": {
            "text/plain": [
              "(a**2)**0.5"
            ],
            "text/latex": "$\\displaystyle \\left(a^{2}\\right)^{0.5}$"
          },
          "metadata": {}
        },
        {
          "output_type": "stream",
          "name": "stdout",
          "text": [
            "\n",
            "Radius of curvature at r=5 and t= pi/2 is  5.00000000000000\n",
            "\n",
            " Curvature at (5,pi/2) is  0.2\n"
          ]
        }
      ]
    },
    {
      "cell_type": "code",
      "source": [
        "from sympy import *\n",
        "\n",
        "# Define symbols\n",
        "a, t = symbols('a t')\n",
        "\n",
        "# Define the parametric equations\n",
        "x = (a * cos(t))**(3/2)\n",
        "y = (a * sin(t))**(3/2)\n",
        "\n",
        "# Compute first derivatives using diff()\n",
        "dx_dt = diff(x, t)\n",
        "dy_dt = diff(y, t)\n",
        "\n",
        "# Compute dy/dx as a function of t\n",
        "dydx = simplify(dy_dt/dx_dt)\n",
        "\n",
        "# Compute the second derivative d^2y/dx^2 using the chain rule:\n",
        "# d^2y/dx^2 = (d/dt(dy/dx))/(dx/dt)\n",
        "d2ydx2 = simplify(diff(dydx, t) / dx_dt)\n",
        "\n",
        "# Radius of curvature using the Cartesian formula:\n",
        "# rho = (1 + (dy/dx)^2)^(3/2) / (d^2y/dx^2)\n",
        "rho = simplify((1 + dydx**2)**(3/2) / d2ydx2)\n",
        "\n",
        "print(\"Radius of curvature (general expression):\")\n",
        "display(rho)\n",
        "\n",
        "# Substitute specific values: a = 1 and t = pi/4\n",
        "rho_val = simplify(rho.subs({a: 1, t: pi/4}))\n",
        "\n",
        "print(\"Radius of curvature at a=1 and t=pi/4:\")\n",
        "display(rho_val)\n",
        "\n",
        "# Curvature is the reciprocal of the radius of curvature\n",
        "curvature = simplify(1/rho_val)\n",
        "print(\"Curvature at (a=1, t=pi/4):\", curvature.evalf())\n"
      ],
      "metadata": {
        "id": "CDpoF3yNXq02",
        "outputId": "013d9bba-8732-48a8-ae9e-a10e7c77ed5d",
        "colab": {
          "base_uri": "https://localhost:8080/",
          "height": 148
        }
      },
      "execution_count": 83,
      "outputs": [
        {
          "output_type": "stream",
          "name": "stdout",
          "text": [
            "Radius of curvature (general expression):\n"
          ]
        },
        {
          "output_type": "display_data",
          "data": {
            "text/plain": [
              "-3.0*(a*cos(t))**3.0*((a*sin(t))**3.0/((a*cos(t))**3.0*tan(t)**4) + 1)**1.5*sin(t)**2*tan(t)**2/(a*sin(t))**1.5"
            ],
            "text/latex": "$\\displaystyle - \\frac{3.0 \\left(a \\cos{\\left(t \\right)}\\right)^{3.0} \\left(\\frac{\\left(a \\sin{\\left(t \\right)}\\right)^{3.0}}{\\left(a \\cos{\\left(t \\right)}\\right)^{3.0} \\tan^{4}{\\left(t \\right)}} + 1\\right)^{1.5} \\sin^{2}{\\left(t \\right)} \\tan^{2}{\\left(t \\right)}}{\\left(a \\sin{\\left(t \\right)}\\right)^{1.5}}$"
          },
          "metadata": {}
        },
        {
          "output_type": "stream",
          "name": "stdout",
          "text": [
            "Radius of curvature at a=1 and t=pi/4:\n"
          ]
        },
        {
          "output_type": "display_data",
          "data": {
            "text/plain": [
              "-2.52268924576114"
            ],
            "text/latex": "$\\displaystyle -2.52268924576114$"
          },
          "metadata": {}
        },
        {
          "output_type": "stream",
          "name": "stdout",
          "text": [
            "Curvature at (a=1, t=pi/4): -0.396402371667573\n"
          ]
        }
      ]
    },
    {
      "cell_type": "markdown",
      "source": [
        "## RADIUS OF CURVATURE (POLAR FORM)\n",
        "\n",
        "Q1: Find the radius of curvature, r = 4(1 + cost) at t=π/2. <br>\n",
        "Q2: Find the radius of curvature for r = asin(nt) at t = pi/2 and n = 1.\n"
      ],
      "metadata": {
        "id": "tU9kEWfrh9js"
      }
    },
    {
      "cell_type": "code",
      "source": [],
      "metadata": {
        "id": "L-GqNh9fi4UA"
      },
      "execution_count": null,
      "outputs": []
    }
  ],
  "metadata": {
    "colab": {
      "provenance": [],
      "authorship_tag": "ABX9TyOs59D65lqkjoKhZ2JwpjOf",
      "include_colab_link": true
    },
    "kernelspec": {
      "display_name": "Python 3",
      "name": "python3"
    },
    "language_info": {
      "name": "python",
      "version": "3.13.0"
    }
  },
  "nbformat": 4,
  "nbformat_minor": 0
}