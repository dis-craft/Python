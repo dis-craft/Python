{
  "cells": [
    {
      "cell_type": "markdown",
      "metadata": {
        "id": "view-in-github",
        "colab_type": "text"
      },
      "source": [
        "<a href=\"https://colab.research.google.com/github/dis-craft/Python/blob/main/IPYNB/sem1_final_practice.ipynb\" target=\"_parent\"><img src=\"https://colab.research.google.com/assets/colab-badge.svg\" alt=\"Open In Colab\"/></a>"
      ]
    },
    {
      "cell_type": "markdown",
      "source": [
        "## **2.2 ANGLE BETWEEN TWO POLAR CURVES: | ϕ1 - ϕ2 |**\n",
        "\n",
        "Q1: curve1 = 4 * (1 + cos(t))  \n",
        "    curve2 = 5 * (1 - cos(t))\n",
        "\n",
        "Q2: r = 4 cost and r = 5 sin t."
      ],
      "metadata": {
        "id": "2KBjgNANAq1a"
      }
    },
    {
      "cell_type": "code",
      "execution_count": 35,
      "metadata": {
        "colab": {
          "base_uri": "https://localhost:8080/"
        },
        "id": "oiO0Jkm78IBm",
        "outputId": "ad1cf4e3-7934-4d75-c8e7-adc3c0940536"
      },
      "outputs": [
        {
          "output_type": "stream",
          "name": "stdout",
          "text": [
            "Solutions for t where curves intersect: [-acos(1/9) + 2*pi, acos(1/9)]\n",
            "At t = 1.4594553124539327\n",
            "φ₁ = -0.841068670567930\n",
            "φ₂ = 0.729727656226966\n",
            "Absolute value of φ₁ - φ₂ = 1.57079632679490\n"
          ]
        }
      ],
      "source": [
        "from sympy import *\n",
        "\n",
        "t = symbols('t')\n",
        "\n",
        "curve1 = 4 * (1 + cos(t))\n",
        "curve2 = 5 * (1 - cos(t))\n",
        "\n",
        "diffcurve1 = diff(curve1, t)\n",
        "diffcurve2 = diff(curve2, t)\n",
        "\n",
        "# φ = atan( r / (dr/dt) )\n",
        "phi1 = atan(curve1 / diffcurve1)\n",
        "phi2 = atan(curve2 / diffcurve2)\n",
        "\n",
        "# Solve for t where the curves intersect\n",
        "solutions = solve(curve1 - curve2, t)\n",
        "print(\"Solutions for t where curves intersect:\", solutions)\n",
        "\n",
        "\n",
        "t_val = float(solutions[1])  # take the second solution in float form.\n",
        "\n",
        "# Substitute the value of t in φ₁ and φ₂\n",
        "phi1_val = phi1.subs(t, t_val)\n",
        "phi2_val = phi2.subs(t, t_val)\n",
        "\n",
        "angle_diff = Abs(phi1_val - phi2_val)\n",
        "\n",
        "print(\"At t =\", t_val)\n",
        "print(\"φ₁ =\", (phi1_val))\n",
        "print(\"φ₂ =\", (phi2_val))\n",
        "print(\"Absolute value of φ₁ - φ₂ =\", (angle_diff))\n",
        "\n",
        "# OUTPUT:\n",
        "# Solutions for t where curves intersect: [-acos(1/9) + 2*pi, acos(1/9)]\n",
        "# At t = 1.4594553124539327\n",
        "# φ₁ = -0.841068670567930\n",
        "# φ₂ = 0.729727656226966\n",
        "# Absolute value of φ₁ - φ₂ = 1.57079632679490"
      ]
    },
    {
      "cell_type": "code",
      "source": [
        "# Find the angle between the curves r = 4 cost and r = 5 sin t.\n",
        "\n",
        "from sympy import *\n",
        "\n",
        "t = Symbol('t')\n",
        "\n",
        "curve1 = 4*(cos(t))\n",
        "curve2 = 5*(sin(t))\n",
        "\n",
        "diffcurve1 = diff(curve1,t)\n",
        "diffcurve2 = diff(curve2,t)\n",
        "\n",
        "phi1 = atan(curve1/diffcurve1)\n",
        "phi2 = atan(curve2/diffcurve2)\n",
        "\n",
        "solutions = solve(curve1-curve2,t)\n",
        "\n",
        "t_val = float(solutions[0])\n",
        "\n",
        "phi1val = phi1.subs(t,t_val)\n",
        "phi2val = phi2.subs(t,t_val)\n",
        "\n",
        "angle_difference = Abs(phi1val-phi2val)\n",
        "print(\"At t =\", t_val)\n",
        "print(\"φ₁ =\", (phi1val))\n",
        "print(\"φ₂ =\", (phi2val))\n",
        "print(\"Absolute value of φ₁ - φ₂ =\", (angle_difference))\n",
        "\n",
        "# OUTPUT:\n",
        "# At t = 0.6747409422235526\n",
        "# φ₁ = -0.896055384571344\n",
        "# φ₂ = 0.674740942223553\n",
        "# Absolute value of φ₁ - φ₂ = 1.57079632679490"
      ],
      "metadata": {
        "colab": {
          "base_uri": "https://localhost:8080/"
        },
        "id": "nTXHgdxnEZWC",
        "outputId": "b05ed781-745e-4b34-956d-8921a9d464c3"
      },
      "execution_count": 34,
      "outputs": [
        {
          "output_type": "stream",
          "name": "stdout",
          "text": [
            "At t = 0.6747409422235526\n",
            "φ₁ = -0.896055384571344\n",
            "φ₂ = 0.674740942223553\n",
            "Absolute value of φ₁ - φ₂ = 1.57079632679490\n"
          ]
        }
      ]
    },
    {
      "cell_type": "markdown",
      "source": [
        "## EXCERCISE QUESTIONS FOR ANGLE B/W CURVES\n",
        "\n",
        " 1. Find the angle between radius vector and tangent to the folloing polar curves\n",
        "\n",
        " a) r = aθ and r = a/θ\n",
        " Ans: Angle between curves in radians is 90.000\n",
        "\n",
        " b) r = 2sin(θ) and r = 2cos(θ)\n",
        " Ans: Angle between curves in radians is 90.000\n"
      ],
      "metadata": {
        "id": "eACFP2xYK0-Z"
      }
    },
    {
      "cell_type": "code",
      "source": [
        "# a) r = aθ and r = a/θ\n",
        "\n",
        "from sympy import *\n",
        "\n",
        "a,t = symbols('a,t')\n",
        "\n",
        "curve1 = a*t\n",
        "curve2 = a/t\n",
        "\n",
        "diffcurve1 = diff(curve1 ,t)\n",
        "diffcurve2 = diff(curve2 ,t)\n",
        "\n",
        "phi1 = atan(curve1/diffcurve1)\n",
        "phi2 = atan(curve2/diffcurve2)\n",
        "\n",
        "solutions = solve(curve1-curve2,t)\n",
        "\n",
        "t_val = float(solutions[1])\n",
        "\n",
        "phi1val = phi1.subs(t, t_val)\n",
        "phi2val = phi2.subs(t, t_val)\n",
        "\n",
        "angle_diff = Abs(phi1val-phi2val)\n",
        "angle_degrees = angle_diff * (180 / pi)\n",
        "\n",
        "print(\"Absolute value of φ₁ - φ₂ in radians =\", (angle_diff))\n",
        "print(\"Absolute value of φ₁ - φ₂ in degrees =\", (angle_degrees))"
      ],
      "metadata": {
        "colab": {
          "base_uri": "https://localhost:8080/"
        },
        "id": "TueCLH__KSSk",
        "outputId": "58a6efc1-a796-48c0-c2d2-8215698c18ba"
      },
      "execution_count": 47,
      "outputs": [
        {
          "output_type": "stream",
          "name": "stdout",
          "text": [
            "Absolute value of φ₁ - φ₂ in radians = 1.57079632679490\n",
            "Absolute value of φ₁ - φ₂ in degrees = 282.743338823081/pi\n"
          ]
        }
      ]
    },
    {
      "cell_type": "code",
      "source": [
        "# b) r = 2sin(θ) and r = 2cos(θ) Ans: Angle between curves in radians is 90.000\n",
        "\n",
        "from sympy import *\n",
        "\n",
        "r,t = symbols('r,t')\n",
        "\n",
        "r1 = 2*sin(t)\n",
        "r2 = 2*cos(t)\n",
        "\n",
        "dr1 = diff(r1,t)\n",
        "dr2 = diff(r2,t)\n",
        "\n",
        "phi1 = atan(r1/dr1)\n",
        "phi2 = atan(r2/dr2)\n",
        "\n",
        "solutions = solve(r1-r2, t)\n",
        "\n",
        "tval = float(solutions[0])\n",
        "\n",
        "phi1val = phi1.subs(t,tval)\n",
        "phi2val = phi2.subs(t,tval)\n",
        "\n",
        "angle_diff = Abs(phi1val-phi2val)\n",
        "angle_degrees = angle_diff * (180 / pi)\n",
        "\n",
        "print(angle_diff)\n",
        "print(N(angle_degrees))"
      ],
      "metadata": {
        "colab": {
          "base_uri": "https://localhost:8080/"
        },
        "id": "qL4SV-51QHWe",
        "outputId": "97e67edd-b16e-49a3-e117-20fdd7ccb523"
      },
      "execution_count": 51,
      "outputs": [
        {
          "output_type": "stream",
          "name": "stdout",
          "text": [
            "1.57079632679490\n",
            "90.0000000000000\n"
          ]
        }
      ]
    },
    {
      "cell_type": "markdown",
      "source": [
        "## RADIUS OF CURVATURE(PARAMETRIC FORM):\n",
        "\n",
        "Q1: Find radius of curvature of x = acos(t), y = asin(t). <br>\n",
        "Q2: Find the radius of curvature of y = (asin(t))3/2; x = (acos(t))3/2.\n"
      ],
      "metadata": {
        "id": "HzmMD4k-SrLR"
      }
    },
    {
      "cell_type": "code",
      "source": [
        "# Q1: Find radius of curvature of x = acos(t), y = asin(t).\n",
        "\n",
        "from sympy import *\n",
        "\n",
        "a,t = symbols('a,t')\n",
        "\n",
        "x = a*cos(t)\n",
        "y = a*sin(t)\n",
        "\n",
        "dx_dt = diff(x,t)\n",
        "dy_dt = diff(y,t)\n",
        "\n",
        "ddxdt = diff(dx_dt,t)\n",
        "ddydt = diff(dy_dt,t)\n",
        "\n",
        "rho = simplify(( (dx_dt)**2 + (dy_dt)**2 )**1.5/(ddydt*dx_dt - ddxdt*dy_dt))\n",
        "\n",
        "display(simplify(rho))\n",
        "\n",
        "t1=pi/2\n",
        "r1=5\n",
        "\n",
        "rhosubsr = rho.subs(a,r1)\n",
        "rhosubst = rhosubsr.subs(t,t1)\n",
        "\n",
        "print ('\\nRadius of curvature at r=5 and t= pi/2 is ', simplify(rhosubst)) ;\n",
        "\n",
        "print ('\\n Curvature at (5,pi/2) is ',float ( 1/rhosubst ) )\n"
      ],
      "metadata": {
        "colab": {
          "base_uri": "https://localhost:8080/",
          "height": 111
        },
        "id": "kyUVn2EdSfyY",
        "outputId": "469d2606-a071-49c9-e4e6-b4ea0fd60de6"
      },
      "execution_count": 72,
      "outputs": [
        {
          "output_type": "display_data",
          "data": {
            "text/plain": [
              "(a**2)**0.5"
            ],
            "text/latex": "$\\displaystyle \\left(a^{2}\\right)^{0.5}$"
          },
          "metadata": {}
        },
        {
          "output_type": "stream",
          "name": "stdout",
          "text": [
            "\n",
            "Radius of curvature at r=5 and t= pi/2 is  5.00000000000000\n",
            "\n",
            " Curvature at (5,pi/2) is  0.2\n"
          ]
        }
      ]
    },
    {
      "cell_type": "code",
      "source": [
        "from sympy import *\n",
        "\n",
        "# Define symbols\n",
        "a, t = symbols('a t')\n",
        "\n",
        "# Define the parametric equations\n",
        "x = (a * cos(t))**(3/2)\n",
        "y = (a * sin(t))**(3/2)\n",
        "\n",
        "# Compute first derivatives using diff()\n",
        "dx_dt = diff(x, t)\n",
        "dy_dt = diff(y, t)\n",
        "\n",
        "# Compute dy/dx as a function of t\n",
        "dydx = simplify(dy_dt/dx_dt)\n",
        "\n",
        "# Compute the second derivative d^2y/dx^2 using the chain rule:\n",
        "# d^2y/dx^2 = (d/dt(dy/dx))/(dx/dt)\n",
        "d2ydx2 = simplify(diff(dydx, t) / dx_dt)\n",
        "\n",
        "# Radius of curvature using the Cartesian formula:\n",
        "# rho = (1 + (dy/dx)^2)^(3/2) / (d^2y/dx^2)\n",
        "rho = simplify((1 + dydx**2)**(3/2) / d2ydx2)\n",
        "\n",
        "print(\"Radius of curvature (general expression):\")\n",
        "display(rho)\n",
        "\n",
        "# Substitute specific values: a = 1 and t = pi/4\n",
        "rho_val = simplify(rho.subs({a: 1, t: pi/4}))\n",
        "\n",
        "print(\"Radius of curvature at a=1 and t=pi/4:\")\n",
        "display(rho_val)\n",
        "\n",
        "# Curvature is the reciprocal of the radius of curvature\n",
        "curvature = simplify(1/rho_val)\n",
        "print(\"Curvature at (a=1, t=pi/4):\", curvature.evalf())\n"
      ],
      "metadata": {
        "colab": {
          "base_uri": "https://localhost:8080/",
          "height": 148
        },
        "id": "CDpoF3yNXq02",
        "outputId": "013d9bba-8732-48a8-ae9e-a10e7c77ed5d"
      },
      "execution_count": 83,
      "outputs": [
        {
          "output_type": "stream",
          "name": "stdout",
          "text": [
            "Radius of curvature (general expression):\n"
          ]
        },
        {
          "output_type": "display_data",
          "data": {
            "text/plain": [
              "-3.0*(a*cos(t))**3.0*((a*sin(t))**3.0/((a*cos(t))**3.0*tan(t)**4) + 1)**1.5*sin(t)**2*tan(t)**2/(a*sin(t))**1.5"
            ],
            "text/latex": "$\\displaystyle - \\frac{3.0 \\left(a \\cos{\\left(t \\right)}\\right)^{3.0} \\left(\\frac{\\left(a \\sin{\\left(t \\right)}\\right)^{3.0}}{\\left(a \\cos{\\left(t \\right)}\\right)^{3.0} \\tan^{4}{\\left(t \\right)}} + 1\\right)^{1.5} \\sin^{2}{\\left(t \\right)} \\tan^{2}{\\left(t \\right)}}{\\left(a \\sin{\\left(t \\right)}\\right)^{1.5}}$"
          },
          "metadata": {}
        },
        {
          "output_type": "stream",
          "name": "stdout",
          "text": [
            "Radius of curvature at a=1 and t=pi/4:\n"
          ]
        },
        {
          "output_type": "display_data",
          "data": {
            "text/plain": [
              "-2.52268924576114"
            ],
            "text/latex": "$\\displaystyle -2.52268924576114$"
          },
          "metadata": {}
        },
        {
          "output_type": "stream",
          "name": "stdout",
          "text": [
            "Curvature at (a=1, t=pi/4): -0.396402371667573\n"
          ]
        }
      ]
    },
    {
      "cell_type": "markdown",
      "source": [
        "## RADIUS OF CURVATURE (POLAR FORM)\n",
        "\n",
        "Q1: Find the radius of curvature, r = 4(1 + cost) at t=π/2. <br>\n",
        "Q2: Find the radius of curvature for r = asin(nt) at t = pi/2 and n = 1.\n"
      ],
      "metadata": {
        "id": "tU9kEWfrh9js"
      }
    },
    {
      "cell_type": "code",
      "source": [
        "# Find the radius of curvature, r = 4(1 + cost) at t=π/2.\n",
        "from sympy import *\n",
        "\n",
        "r,t = symbols('r,t')\n",
        "\n",
        "r = 4*(1+cos(t))\n",
        "\n",
        "dr = diff(r,t)\n",
        "d2r = diff(dr,t)\n",
        "\n",
        "rho = simplify((r**2+dr**2)**1.5)/(r**2+2*(dr**2) - r*d2r)\n",
        "\n",
        "display(simplify(rho))\n",
        "\n",
        "t1 = pi/2\n",
        "\n",
        "rhosubst = rho.subs(t,pi/2)\n",
        "\n",
        "display(rhosubst)"
      ],
      "metadata": {
        "colab": {
          "base_uri": "https://localhost:8080/",
          "height": 60
        },
        "id": "L-GqNh9fi4UA",
        "outputId": "5fd67a89-c955-4ed6-d987-6ba16d99fc17"
      },
      "execution_count": 91,
      "outputs": [
        {
          "output_type": "display_data",
          "data": {
            "text/plain": [
              "3.77123616632825*(cos(t) + 1)**0.5"
            ],
            "text/latex": "$\\displaystyle 3.77123616632825 \\left(\\cos{\\left(t \\right)} + 1\\right)^{0.5}$"
          },
          "metadata": {}
        },
        {
          "output_type": "display_data",
          "data": {
            "text/plain": [
              "3.77123616632825"
            ],
            "text/latex": "$\\displaystyle 3.77123616632825$"
          },
          "metadata": {}
        }
      ]
    },
    {
      "cell_type": "code",
      "source": [
        "# Find the radius of curvature for r = asin(nt) at t = pi/2 and n = 1.\n",
        "\n",
        "from sympy import *\n",
        "\n",
        "r,a,t,n = symbols('r,a,t,n')\n",
        "\n",
        "r = a*sin(n*t)\n",
        "\n",
        "r1 = diff(r,t)\n",
        "r2 = diff(r1,t)\n",
        "\n",
        "rho = ((r**2 + r1**3)**1.5)/(r**2 + 2*r1**2 - r*r2)\n",
        "\n",
        "display(simplify(rho))\n",
        "\n",
        "rhosubsn = rho.subs(n,1)\n",
        "\n",
        "rhosubst = rhosubsn.subs(t,pi/2)\n",
        "\n",
        "display(simplify(rhosubst))"
      ],
      "metadata": {
        "colab": {
          "base_uri": "https://localhost:8080/",
          "height": 109
        },
        "id": "pYlLqQPdkqB9",
        "outputId": "c99c8bec-a2f8-4f80-8ed8-87737d6b0516"
      },
      "execution_count": 96,
      "outputs": [
        {
          "output_type": "display_data",
          "data": {
            "text/plain": [
              "(a**2*(a*n**3*cos(n*t)**3 + sin(n*t)**2))**1.5/(a**2*(-n**2*sin(n*t)**2 + 2*n**2 + sin(n*t)**2))"
            ],
            "text/latex": "$\\displaystyle \\frac{\\left(a^{2} \\left(a n^{3} \\cos^{3}{\\left(n t \\right)} + \\sin^{2}{\\left(n t \\right)}\\right)\\right)^{1.5}}{a^{2} \\left(- n^{2} \\sin^{2}{\\left(n t \\right)} + 2 n^{2} + \\sin^{2}{\\left(n t \\right)}\\right)}$"
          },
          "metadata": {}
        },
        {
          "output_type": "display_data",
          "data": {
            "text/plain": [
              "(a**2)**1.5/(2*a**2)"
            ],
            "text/latex": "$\\displaystyle \\frac{\\left(a^{2}\\right)^{1.5}}{2 a^{2}}$"
          },
          "metadata": {}
        }
      ]
    },
    {
      "cell_type": "markdown",
      "source": [
        "## RADIUS OF CURVATURE (EXCERCISE)\n",
        "![roc.png](data:image/png;base64,iVBORw0KGgoAAAANSUhEUgAAA2gAAAE1CAIAAAAd+1RqAAAAAXNSR0IArs4c6QAAAARnQU1BAACxjwv8YQUAAAAJcEhZcwAADsMAAA7DAcdvqGQAALqxSURBVHhe7N13VBPZGzdwgQwIWFBxXcResO3asK26uujPig0QFLtir6AoiIgFC4oFVEBQQREsNFFAPYAgSIcDgkp56RyQ8tIO5U1yMnN4k0kPmWSAgKjP5x9NI/feuTPzzZ2ZOz1aAAAAAAAAIAGCIwAAAAAAIAWCIwAAAAAAIAWCIwAAAAAAIAWCIwAAAAAAIAWCIwAAAAAAIAWCIwAAAAAAIAWCIwAAAAAAIAWCIwAAAAAAIAWCIwDgl4PVprz7VIpyHv0GSFSY/jUsLI/GeSBMwksAACDsNwuOjKbqsoK8skbOw3ZBm2u/F+aU1GGcx92YLKrbBdCqr+E+7g+ff8xv4jwDutIv1/5Y9QebzaZ+JT/BKiobJCvclHJr606XL+ICooSXfg9oeZTjwfWrdFcK0l1ldDWqmfMOAACH9OBIr0h95Xr94sXr95+FJBZ1fM9S9+78+jXL5k0eO2rkyFFjJs9fuU6PY63u0gXa40eznh+383kd5/1YVZz7NYfX2R1dfWnhZ3WmDumtIKcwZF9oO7eP9ET7dTNGqSFycqr63t17e0JQXVm1pswwCnwOz9M2uBEW62Y4RH2xYzbnedA1fsH2Z2S7GenaJIjv4nVJz/zSfrF4JLHCwrByv90rTN9Xi0mYEl765WHfA47oGlo4PPI4Z7Du2MOnj8/prT326OlTr2ch6TW/Y4MAIJHk4EjPfW6qt9H8rs+70ECPa4d0hvQavODEq0IG5+UOoIYfGKHQA5lvny9ycKWpIPTq2hEq08+ls7+F8dlmGtJDrtc6z3r8ccfUehuoUcgGR7Q0Na2s9bGf5vf7hil0++CIa1Vd2bZmx6EFTkvVBho8rcDQ7Fs6fZT/sozjvPJzIugy3dav1v5MaO7dlfNOxQivnRijqSovKcjl5CqtXkqLncp/pSwgtsI4rCrq3rkHiQ2ch2zYd68Ns/eF1HIeCpLwUru1a40QW/BOhJW9ffq2lNkpGJ8vHbyRg2JlLvsto+mcVwEAIiQFR1rSBYM9PgKHP2jfbi9Wk1eZZhXb4dDESLb6C+mhqHOHtbqKqg/ZO2d3MJX9oDnFdc8aPXP/Ilnsj2nv9w5ByAbHBu+DR7mlEMBItZ6M/BzBsXV1ZdqaHYZ9d17SU2mZaxX+CKXRZPCT5Ici6DLd1S/X/i1Y5XPj8Xoe34W2Kowvbvs3bDt4xvG5w0ZNBcVfKjiKrTAbmnt9nqKSzh3RA9j0FOuZ2pZx4rqphJfaqT1rBFHBOx093srAKoHeQg3eu/Rsyk+/MgDQWSQExwb/nUtOfqwSWn2a3u4eoiCnpvekmvNEe0kMjszAc8TErbITNhu00H2kgyM93kJnj/jgOOVnCY5tqO6PwMg4Px3pY/TiJ2hKUoi6THf1q7V/C5pjv3DU9kCioSpa+IHhv1ZwlFThKvdVvZCpNp9bBSA078ZCTQMvcRtYCS+1S7vWCMKCd7K6Vztn7AlhFrbSZfnove+761YTgB+OODgyks/8jcghY459FBiyxyqclyj2UBhxKKKDa5Xk4IiVOB07n9wJ2402JKnG8ENamrsgOHYmRsa56Uhfo5e/SHAh7DLd1S/W/i2MtLPTBm8JILwY7JcLjpIq3Pxmx5/IiEMfxKz8aI7d3P4rXMUOUxK/1A7tWiMkFLwzofkOi4Yasc6txypdlvaedenbT3TOCQBdijg4YlUBu8f2G7LidoZAgGMGx/8xg+Pwg+GyD46MJBsztwr2Q7QkLQ3futMbq4pzMpI+RaSUcFZjjFZfUZj1OSEq6gv+u7i5NC3yfXhsRkkD0baOVpUV9yEyKb8OJZuksLrPDzaNVVIYtM2vqp6loZHK24oIBsemktSI92GEX86oK0gM8XZ/7PPhW7W0GIw215Tlf0uN/ZiQx9wPoDXZMeEfMyqEzrOhV2SE+3s+fh4Sk1NDvFGTUF3xrVmUnZ4YHZFczCmh4FOCX08rTw/18XB74BkQU9CElqelFZPasNJrcuOCvJ/6f/xaQRVsJEZzQ0NNvNUUpI/+k0q8jZtJ/FLA/5qXh/ebT7n8y9rJVYKwgVE6lc6tCsbg/ZdBo7H/i9K5z0lYAIRdpoOFE9CW3sQns/ZHq75FRSTxLo+jV2fFRsRK6oidAq3NS4z4kFBQL2aFQ7OuzOm78gH7wLs4Py44Yk2lGTFhYVGfS8SEPKyp7EtMeERCbrXwAuehM1fp8LdvP6Z/F474YiuM0hobmIuzJtJsHNLP4EkZc8k2UEUWLT3+5AR1w+fiBiolvCRGe9YIImQK3nnQb5dmaxg+ww+lMfdOfzPbtTOOeQHwK5B8cUwrTcEmmgryanpPqjq4TokJjg3+uzbd5wRHDjTf64juP6N6y/dQWuXOvpyDkXJv+/LZI3rJy2vsepMXfMXM6pZXcPgbh00TB880CxL+oYxVRF4z1vnfDluP4PBQP5eLxy2dbmyVGhzRHB/r3Vs26IxRllceq7PBmGWz6ZNM7iaMExy98t/ZSfhytCTo9JIZS048ic3OSQ2yN9TW3uGRKeFrqRG2ev+bNlhJDpl1KT78xtETly9u/6v3H2sfcV5v/vzIwvSi66uYL98SfM+v0f7H5H6yyAUu0qpL0Jor5ozsxXxquVsN+6k0p50r5jAbuIfiUpdK/Cnmt6c57TIyexCRWVZTU/Yl1M1ildYg6Uc4G1JcTZavOeLo/ynjS9zr+6f0l2668Ylz1SY9yWnPpo2rpg6QVxgy15DZxJt2OcQR7DfZmr8+2Td30n9H7ofEJUa/fnzd8qCVVxbrE+QqQdjA+Z9d96yZO0JVroccMmjqKutgdt9ufHdq+kCKnJySxnSDW4l0iQtAQpfpYOHwV9vem9hk2P5o0bOTh2/6Pd6j/df+N2XZPufNL7i9Cr6/e5qWvnsh5z2djV4cYqO/2NDqUXCo3y0zS3c/u3U6x94IXMpR81C390SLBOJa/JDg2Jj50kJ/qdEJxxfvIt4/v3X88I1o7owRzA1qtu9pg+VGJ+/6hb73sds8b8GB57lC5WcUBlgYb7V09g+Pinj96Py+Q85p/PE7MRXGKoPPb91kbLxx2cS+8siIBUasRbvNJrBMuMoN3gZqo45EiutCEl4S1s41ggDJgncerLGyijdpCK22prErOwkAP5U2BUes6pnhQPmef5+K6fCsPOzgiEw9+PRNUFDQmwBvJ6u1Y/sucRYOjjh6zHEtCi/q4Ogfj4xC/liyw9rlMze81Hqv74cIbkSxypBDk/pNOxnF30qjhZ4bhyuSm46HGrRzEEWD8FB1z9nrbVyJv7w+6tTU3qN2BfJ+szZHm43vNd0mmXinxtLwckM/xanrD5/zL8cY6dd1Bg9ZdQ9/Ac26vmTGtocp3DaoDzs4Bhmy8zW/bmSrK6Y1aWH7hyrwYg2OHm06lsKLNVjRvWWThA4d0eJPzTaWHBzpmXeXD/7LNJJfnhbqZ9u5Gv9cSOD1HvxQqXBhCKCFT9YP6TvHNpW7PLDSkDOLtFY4FXFaWGolcOIaGJ+ABs2+Pk+ZMvKw0CkYdZ7rtfeF4MtQ+gKQ1GXaXzj8hXb1Jpm2PyPZ9pgzs6lrH+n27Dl2nokjK700+2xQk0f+Op3EeZMoes5bl1s37Mm4cfNuQIbYA65cjPynm8YOW+2azalzzYutmkoKf2wP5HdCeqz5OBXulT5idXlwxCrDreYOmX7sLecbG+Jubpw2Uv8J3uBYdaTNv5p/7XvNm7abGmWqpTbP7isvXjEyrv4705x7xTRWE3tbb+HhMG4flVBhrMJthQrCm5uiFXrsiXEqzN4npiEkvCSoY2sEIWkF55Jp5wIAtElbgmNDxLHxSgMW2adJDAzksIMjRcvw4m2mm3bnzTZoqyuLDY5i9m54dqMM3hHI3xwwkk5PQnquecJ9piF0/yhEfeNL4bklqH7GJKfjkRIc5TW2E385+u3qP8rIrMuZAkdm6AmnJigOkXLGNe3tbk2FnhNPfRJNBLS3JoMVFDR3v+V+nPZujyZl0M4gbvFIV1dcayZb/Y0Ixxp82h5erKFFHh41YLlTnsC2nBpiZuoroR9gJW66/ZR1HLi5jqP2qZ6a6jw77tlDpINLbcA2TYr6BoHqNflu7CdPmWSZyCmU1ErgCBu4BSt/tFqNMnT3W/5vIlq09QEXTgWkLgAmCV2mI4VrV2+SbfvTEy4cu1+MMf+1mIj0WngjG/88Vvf1re+HPMJeQMsMvH35ki0Zly7bP+dFEDHoX+wXqqktucefvIuRcuZvRFXocGLzSyM19a2vJKSULg6OaM593UEqMy/w5o2kx1tMUu4//wrrgl00/9FaDeWpVvGC7df0zKA38pcV9/Ru1mFjtXVPuFmMFmGuPXnL40JuI0iocFPA1oHI8IOE5wmiBTfmq/C/SJCElwR1bI0gJK3gXDLsXACANiIdHLHvr0y0/pxnEyWb+VDZwVHwUDVW5bnR0KUNwVFRx0FgvgZ8R8ybWaSl3tdYXV5pibPILoIasKW/TIKjpC9Hsy7PRgQ3qbh6j9XKyD92uQK7/1bw6NBn/XN+JOVilCf6v4zmniTH3KXEnhhHUdZ7ytnrkK8uUWtKjDU1/ts0FRCN2ZstHbxCEvJqWfs9KlXCeBdW5PBfT8qYY6JzoTG+XNBG+BdMkg0udc8N+8krLr4neDIAWvUlJqWEt9eVXgkW4gZmfon/1j8p6kbPuRMGNAabH33GOyVDygJgkdJl2lm4dvUmGbc/PSMqhpnQsGJHHaWei7p8mhSs0ttwIGWA0XP+7was9O7insw0nSXQAHWPdJUlr9ukgyNWmf4+wM9XKj//oPhizmdEYRXPjAZR+ut5Cm3TqM34maZYlc+mwRS1Ne7CRalzX6Us33+zP6cL0aOOjaEojVxm5uj7KauqVcWIK0z/ZDYW6Wf0gnDBsq5yVBZ/AYqEl4R0aI0gIrXgncLV1XUdscDAQM77AAA4ksGxMenqovGLL8fWymqX0To4ttATbEy5F8cIak/UwR8JbIG5ZBYcJX059c2OQfIKmkvMLl8VcMX6mMlu22CJ+yxWdECGEhWvPjPI8eQOo43b95vb2B5ZNEhBaa0neyvdhuq2Kzi2YLXxd7dNH0CR68Ekhwycsd0hWlJNaCEmg+WRaa1m1MBKHHQU5Xrpe7PH9UgGF0aazVREXs3YT8IOiHw2I2xgasTh0ZTey1zwXIRVPTt2Mlg4wxEvAJwsgmPrwrWrN8m2/blqvfTVmKkzTeSPdjaszGWpinyftY8F5gBreGHUD9EyExqcrbq/VHnYAUmX7ZEOjs2xjiYbjQylMtqwzeY15zMisOI7i5Tl1fSeCix0HlaVVOX7rPEQPlccP4+EmfejuNVi5HhsHN2TvdZR1CYY3IoXXFSEFUazrsxGei66KyHhV7suVx62n3fUW5CEl0S1e40gQKLgneHz588BxP7P//k/nPcBAHBkgiMj18N4/nqnz/yDeB0nJji20Gur68WMoLQ7OMqpbRQ9mtre4IjVFhZyh1qlfjnrmI0CReJZ+gTw6DBczK4Aq/l0ednQQTMOeX9hNwM9znwcRTg4kqtu+4IjDmsqSXnndef8Yf3pA5k5TseB+PZ01BATDXnKhFOiTYDmXpuLyKnqebETGdngmM58m5zaBh+R6glqQzYT18A4PKAqzbmaibZgRfcP2cTw3yZlAeA60GVw4gvXrt4k2/bnYP5RTYRkosBh1LrKinIyKiprmwmH4qkBm/vLI/MEbzJF+3BwBDJw6yuhTVKT5zrVP4UOlYrqykPVrDNA5RT/u10s7ruo/niVrucJVRrNvDwLkR+42U/okubmolgf58vmW+YPUZJDxpnH8hcpUYWxygcrVSVPhIiVOuqojD8p7nIoCS8J6tgaIR6JgvPIqHMBANpOanDEyoPN1ux8nC2wt6j3PXel7aFImLjgSKBdUafBZ+MA0YObTO0NjrRQGxvWzLAsUr8cK3NeqiKvviWgzUmbKNfUvt45BOm30pV/vxd67Akt9lYaLU1MaEN1xbbmWdEK0RMtJvIv3aBFWh3xEBwLRkt9t47oOfMS52FrWOHt/3oqaJiIjjWwzs2jtP1QaYPfJnV5MfenFCC1EjjJwbEFzbu1UBmZZJnY/M3+kJ3APFTSFgB+2pmkLtP+wrWrN8m4/XH0RMtJiNr6Z6TezNL4/vSiWTO0yZgx898DL0U6L0/V/aVKCkIjsXi52Sc4okURH76xn6WF7hvae90TCRPJdGVwxEtNtKmpfbhSSV508TC+XJyhiIwzjcKXNK042ssjNJ//cfz2kD1XPuQfryeqcNOrbX/wEz5W/SksUfTcDNYWS2XuNXGnOkh4SUAH1wjxSBScS1adCwDQdlKCY0P89R0HPXOEUiIt3GyPKz9G0L9nJOeKm1VNos4Oji31IbuHIwM2vBS8yI+5ufE26EMuONLCDgyj8M48p746a/OR8yHpX45VPN/wJzLyQJjwvp4aa2PqJrG+BLmGGrzrT3nFRXcFZqZo8t+sLo9vpWlhVqfbUF0xrYlmXpqJKC29L3B1ZpX7mt5y/OAYun+SnvBRNVrEoTFTz3AeiIGVuq8ZwLriVqjroHk3FyjzLq4QWxjxGt7vH0npvcRJePiG8dn+7GNOCJBaCZyU4Mj8meS+Ro0y3OS61RGnAv6eU+oCCGR1E+Iu06HCtas3ybj9mdCCmwsUlXQcxY6gdaomnw3CR8jRXPv5SsisS5loC1p4z+JmFufpvOvzVPBniXRlcGSNFCOjjwrePoEFqwi1v/exhlkQkcFbrMp/29CeWnuD8Mt9sDKXZapySvOuC+Q36luT4dMFTxQgqDBDKOHT066b3eUucB5qsInmH9yuKkzCS3wdXSPEIlPwzobWFSSFBr4OT8qvFffV7dvbAfCLkRQc6Vlu68aMmbdWT9DqZf+M/fsQb+dGjzUfj8ghkyw4j8nCZyPpgcy5Kn3LwBrpoAjvdVnzUFAUdRwFj3OzxlKELrYpf7Vbq9+cCyn8Qyf18VeXDEbk+xv7Ev2O5cPKH67qi8ywxS9AZaTYWT3m/mYl9eUlL7aOVp93QeAHc2PKDZNTwZxZ9Ag0v9qqTml98AkfsKKMPRLJjQ5o0TMb/Vl9lRbeLkYbXlraMJ8iW10xrYnPzqk4+Qzv5qxNqY57546iIP/Y5eBLhzWyoTrlVDR/aAMrvrdimmkU55FYaJ7H+uGaui45/P19me+20RpLHTJ4Ow+8MIr/I7EjxyqDDkzoPXLz8yLen6NnPzp6JojXoNIqgSNoYAH1Ads0FBQHGT0RnI5E6gLAT0oj7jIdLFy7epNs27+lpdZTrw8y5WxXn+DIhFU8Nfhj8I7XnNrXxd/e8+8oRfyGN2iO48nbvAtkaJFHRg809hMO2IKaArcNkkekjqbJBi3O8u++c64I3n+kMevlaZPTr4rRFlqi9bQ+My7wBrWbv7qsHT5SzzmdU3is1MVo6ak3Ofy1mZHnpj/HxF9oUYmvMP2TmZbSlLOprL/dlHTzyLW4Vi3Cipy9F94qFLPcJbwkoMNrhDgkCt6JMGajB10xs7zmHvjW/+7Bf7Wmb3NrdXoWZ28XL/JzAIDfC3FwZHy5MkcZPy1bFDM08U5eRnMeGI4eMEzPjfNYurq35wz1Vv83YaCqiopqrz8n/rdKT3/9sadit+WMNJfdesumavZSUVEbNXvlphuxdHrKvV16S6doMD/dZ8QsXQOzZwXUNGcT5lODmU/1HTZjub7ZM+7Hi0POrV+0cp+d15sgH9drZ844hrht6i8vp6gxRWetrbQpbqnpzkYTxy464ezhaHHMIY6Vmkh9OWc+ZEZRyDn9ufONLO89ff7E0ebo/jPe34jzSgv1wyXDNf+NV1dVUe0/dp6unqGFn0AyrU+6u3XmiAmrTrv6vnruZGt52S+7Ns52gcaQOeu3mXtyRlykVVdMa7I/2IIWBxyd+/diU2ffoAAPh4tW1wOj7eYhcgpqY+evPOJd0Bx6QFvX5taZ/SfsHvkFBfs+sD1gvOdOotRxKnp+oLXB0nV7rW89dHe0Oai/dO3xZ984m2IG3m5Tme2m2mfo9KXr9Hc7S8kkaFnYZcOZ05btv3zf0/P+FYvDpz3SBH8ASK6ElAbmo348qjV052uR439SFgCn5GK6DIeUFm6SVrg29iY2WbY/65ee4hhT0cu0uwZa9Mp08f/2Ofn4PLhqaeHwoawscP/U2Xtd3c8fuxohMANVo//mPycIngXIhlUHnTXU11+7RHuYGrO+vQZNWKirp2+wx4XMuXQdQP3qvuu/Jftuvwx5++rJ7XOnzMyvBmRxowgty3OPjs5OO68Av4cXdq/W3XkjskywOM2f3U8fPWPv7h/y7s1LtyvHTUys/XJFN1niK0zPcFwxabmN91MHq6M2fvliKlnrpa8+8+JXcdtcCS8J6egaIY70gneeuoC6gH16F5I4RcRKH67qp6x9XmSl4OztuuSXBwDdFpmLY3521IpvSYlfSxuYKztWlZ2YnJ5VUFbdSJf025cLrS1IjU9h3b2vvWhV2UlxyTmt59JoO0ZdUXp8TPyXUt49Dej11fWt9uTtrS6tKif508fo1GJWGqOWpCekfs0tqaynMT/YWF7Ouqci1ljyOSYyOuFbudTMIohWnZOSnCV8w7v2o1fnJsclZVUInIMvQEIlyCI+h5/UApDQZTpeuHb1Jtm0P6M6N7OsTctdtlj35UtKzavhNjfWWPQ1u1Kk8RuDTUZqk7q2oss0f/8a/ykmObNM3J1I0Ibi9PiEjKI6ghJTq/I+x32KS82pJGh5ogqj9YVpCWlFBAdVGwK2Dv9HaCyUR8JLYnR0jWhNcsE7D+PLBdZUVUq888TR7KtzkNanjQMAfo/gCAD4PdATTk+dcvI3OpLYjgpjVV7rR691F5eIJLz0q8OqserPoR+yuMdR6HEnxyMDtwncmQgAwAHBEQDwy8CqA3fNMH4mZj7YX1SbK8xIt10wzyZZ3KC1hJd+NzVBJiPUZl1IgrYAoDUIjgCAXwhW8mzb/46FCc8v8CtrU4XRvPsGi09HC54czCXhpd8MWuRtPHHaPj/+XEMAAAEQHAEAv5a6j9aGB3xKfp/dPtkKN6fe2LTdNVPcgW0JL/1esKqw06v1L0UJ39QHAMAHwREA8KtBy97ZXfYv/n2iI5kK09IeXHDnTvgjTMJLvxWs9tPVXYcfZ+LXIqG5j12CyMxxCsBvBoIjAAAA0BB/VX+Vqav/K5YAn4dHDE9Km7QNgN8RBEcAAAC/NazEs8TTQENBcOZiOSVyc+MD8LuB4AgAAAAAAEiB4Ah+C825wQ7nzp2zNjt04ta7fCmTs2G06pzI+2bH3Ajue4wWep/cdfzCDUeH6zamZvdT4HAWAACA3wQER/AbaAizMnH4yrpiFC3z3Tp6xHZ/CddMorlB95y87ptMmnii1d3r2BgZl4yWbzFcp7fjlFNYAcRGAAAAvw0IjuBn15Dq7RUjcRY7NN9xyTAj7xr8AdV/s/qwfaF43KOmUlOfe8RUt06RjDQb7UnEwdH+ig/cUgIAAMDvB4IjCdSy1FB/39dR2bWSZrugV+fEvXvzPrGA4KasjNxg37hagYiC1hUkhQa+Dk/KF/27tIqvUUGvgj5+rRAOLoQFIfxuaUVvVShc/bfEL0IlLf2cWMC6WzVLc2lKcp5AaiIqLHH1JBSKUZsbFxL4LrlEMJZh9QUJoYEBrb+CifbFac9hr3zydyemJ5+ZOmiNeym7NlgLVvbKdOvFT6KzbkgJjldM9tx0eeD+4LaNzaPU32euaQAAAL87CI5SMHKf7FxibBeU/CXex3r9qpPBYi+za0h22rZi85XXyV+TfSwNjC5/bHUklJ5+7d8BMy9+5UQlrDToipnlNffAt/53D/6rNX2b22fOJGrUr57nbFxeJ2XnZoS7Hd+w824qO0MRFoTwu6UXXbRQlYkvnK7bnjaeqjb6yEeBzNTgsVpJDun1x9BRIwb3/2OqybM8TlAjKixx9YgLRc99YWaw5dyL+Jz8pPs79M7F4XOpYWVBVy2vP/v4tSA3wX2n9rhV1+Mb8LfjmuOsl2/zLhOtF7Ha6LNLFh4JLBH6RH3Y0eUHgmuEnpMYHLG6rynZeE2xwtuLtEzesMcyAQAAgF8dBEeJ0EKnZcP1HnNuBIvmXP935Ba/avyBgMbww1oD9Z9ynqfHHJ8w9kCY0GS61LS7BxZqKc/gZrS6gH16F5I4CQgrfbiqn7L2+TRmGsPKH202ec6LRowvF3TWP2HGEsKCEH639KKLFqqlpaksO/t7U73HapVRwsHR85Dh2VtXba86erxJ/s57gaiwxNUjLBRW8/7QZG2LWLzVqCEmg1V1HIuY70K/2c7sNczkNf630Fy7fxRVVz6oZH+8Bc1zWDrXOoXsaCNW8eHKvuMe6Y1Yc2Uld/wUhxXd0/3vQrrgH5IUHJvSXriEFLAbjfZuz9DhnAPfAAAAwK8OgqMkaP7NBb1mXeJdW0sLPzhCbR2ejQTQQvcNVZxokcgNGQ2e63oN2h7IP9janORg5fbpzhJVbkZjRixtRGnxve+cAJV9dQ6iiD9kvjJr7ManeZy/xYwvCww9a4gLQvjdUoveqlA8Da2D41NLm4TWGYqgsMTVIywUI8N2Zt+Ftwq5aY7R2MBpvqa0J+ftXuezmy3VejIycEsAd/AyzWaG9llWHiWBUfDqgvntD8V19fU1uQ+t7VOFPoZVPFg91TRaoIqtgiOjJNo/LIdVKmYtVi24EM/OilXuawb9dytPuAUBAACAXxQER0mor3f80XOZaxXnYQsj/dz0nuNPxglnKOqrrerI5DO8ka9mX2M1RPvCF87jpvibVh65jApngYyGVX8O/ZDFPa+OHndyPDJwGx416Z8vzelF6T9t682IouLwcxu23E1nJhTCghB+t5SiiysUl/jgGJ722vXmtRsuL+NKea+ILyxx9YgK9f8yL8/qOfJQSEag46XLdna3n6cIHzfGYZXBe8dpLnXI4Hw9mmM3f4JQ2GNByyPvWJw4c+GC9XUvXxd7/1xW3bByv52jFHlz+8r11vfijZOyoZmX52pzmhEr/eB67eK+hZoac00uXHN6X4i/ofD+qhHzbFPxN9R+dLK+5OIXGvbcdsvqXW7p/N8IAAAAwC+tmwRHRqbn2Xvx+Elt3UmT5zplJd1HvIsf0G+2M5Q0d78TPjCJldxfrjZkD/dZRsZ5bYQy+ig7eTV8un7GMx9twcRmNFxNkMkItVkXkjifR8vCzi5Ul5eTp6hM2P2qDP8AYUEIv1ti0SUXqnVwbPTcvuCgR2IFvYWa82TLrMW2vGtJxBVWhED1iApV/3r7H8jQf7adDyll/oX6mLML/jZ6lMMbE8TKPjjbHFn714j5p0PLeV9B9d+sscyFe9gaR898aDhtyVX8RMu6V9s1BcdipWh+YfTn2sfkL3NBG4rTYmM/F9eLqzIAAADwi+oewZEeaz4O0djxupHzuLuod1+lpLTyYS3nYQv69eIMpSF733NiGg819dbKKStvsS4Aafr62FJfux8y3pw1uFcXceWMdxErWxAFR7TI23jitH1++JuYsPL3Nhs3nfWN8L+gp9VLHtFc4ZBGlVQQgu+W8AlphWodHFuozVTeUeSk038xP5PBinXiCytIuHpEhar329RPXnWFG+fcx5baJ2v7DNrsJxLjqNmPDEaPWuecwW7+atfl6oYvBAb70KybC9XGn4hlv9z8eoeG5q4gsoOBtHd7Rsyzy+E8AgAAAIA43SI40qJNx1J6yA/a4i86KcoPRg3Y0l9pMf9+payT7JTG4ZFQFFoe99Th+tVLVx9E5T016K2y7H45VhN67rhbRlU1S1X2DR3VaWfiKmvqeRmsBasKO71a/1IU7xps7PuT9dq7gzjJqjnH/8TcAX2WOpc0SyyIuO8mLLrUQrUKjljtt0+JxbxAWO26TEnpf87lGFFhiatHVKiGyCOjkJGHI7mBnBpsooFomX0SbWd67AktpM8yl2LmH8C+3/vfwA0v+cEQ/2Nax2PYH6LHmY9vfToqMVr4gTHzrmZzHgEAAABAnO4QHGkRZqsXzu4nL6++8SX5Y4VdAc29Nldl+jne5ba0t7s1+6x6xDtHjwdtamjipiF6ouUktcV3C1G0ONTpsi3HhcOLNJAhS00vXvHgzJuI1X66uuvw40w8kaG5j12C6luor7aN3ewnOIqWfXXeBNPo/yehIGK/m7DoxIXivLFVcMQvdVHbyJ3wGiu7o6PUa+3jWsLCsj8ornqE7VntvrqvpkkILzi+2fEHMtk6lUGPt5mpOeHIO87lMGjBjfkIZSz7K5qeGaiveCBwtc9Lo75qRi/Zo9asC3JU59vnM8rTUotFR3nFoQZsHrycf/YlAAAAAMToBsGxOfToxuspLzf/IS/ffz3n7h7dBZrvuEhjxX3ObNGMzzbamkbP8AOqWFX45V27HeNYOYWRenaqyhTOvDB17/dPnHLio8jFFy2MZKu/lflXzLQ0xF/VX2Xq6v+KJcDn4RHDk5E0Zki7NG/2mSR+GKOl2KzYFVBLXBDC7yYuOp9oodga3FepCAz/tdQFHN7uzJ25saXWd5PGYKNn5awrwAkKyyS+eoSFwqpfGg+ZyS0IM1/O6zvNJpnOuq5m6jgDt6+cL68L3K6JDDUJxgemmTXX1rbhX1TNfO/EoezwiVVHnJjWS8vsU3OWo/V9ZoyWihlJF2odjuDVGQAAAABi/Pjg2BRyyPhWHtoYuP1PeXk1Pc9uNuhDz3y4RWf9pTfJX+JfWqxZciyQE3rQ7Lsrho7e7FXGelD71nTFDqfIlMSwB8fXrDj0LFfoGCtWG+1y+qj+VPVef2gbHTvtFteAlXgaaCjwrvJlklP6H/sIblOq887VxtYPQ2KT4t66Xzpy+Fo4O+0RFYT4u4k+gWtdKOaTdZ9crS1PbP93aG+18boHT52+8ByPcmjx60tm59yC45KiXpxbv2j9Ne7BZ4LCSqgeYaGwsrdWenqnnn6MC3M/tkJn95Nv+FAlVhVx87j5FVe/8Pi44FsbJmutuBTFveKa9uHQpFW88yKZ7/0eeGz5euuH7g5nTti6XFw9ZZXVVfNLb1rNxS5O1RO9sVv8RNM+AAAAAIT88ODY+PrApjusMaGmoF2aCnJ917iLjIoxYbT6isKszwlRUV/wi2ibS9Mi34fHZpQIzeKMo5Wnh/p4uD3wDIgpaELL09IEj1NiGJkM0Rrrhn4h/q8iv1XzhrdaaSpKeBvw+uPXShkMWmH1BYlhgQEhn75VCF9qQlAQCd9NpuikMGpyYt8Gvo3NFP0SwsISIyoU6ztCXgVFfasUeb4q89PbgFfv4rOrhL6cHm8xZ91DzmyRbFhzRWFxLZ6d0Yay/LJGUkscq3ysN3nvu+52bRYAAADQ3fzo4FgfsHezM+taB2YcfLdnqIJc75VuQkmAiZFyb/vy2SN6yctr7HqTF3zFzOqWV3D4G4dNEwfPNAviv7s5zWmXkdmDiMyympqyL6FuFqu0BhlxL7tFM+8sHdhr6DqXbDJnvIGfAlbmtXm5TXJHszojw05Xzwmf8REAAAAAEvzg4FjnY7LFlXsElRp+YISCXK+lzoKHVLnoH4+MQv5YssPa5TP3pLpa7/X9kIkWnFuaYEX3lk069EEgRNDiT8025gZHeoLV30pyipPPkJ3YD/wMsFLfI9vskjgXz7QL7dudHSaP4d4vAAAAgHQ/NjjWPNu19RFvcpYWWuSR0RQ5lUV3WHcpFsFItZ6CUAbvCOQfT2QknZ6E9FzzhP0MLfLwqAHLnXgXcTBRQ8xMffnXbjQVf8urgXzwq2EUBV53im7f5fi0VDcbtxQ4RA0AAACQ8yODI1bluVn/enJ+AU/2ix3DFOSU/7td0Crf4cFRUceBP0sg66LcaYgS7w52Nf7bNBUQjdmbLR28QhLyapkJEqVSOzS+aGlpuRsAcgoL8ZsTAgAAAL+uHxgcsQp347mrTTh7XY5N8wYryCnNv97qhDM8OCotdxOYrgcPjopLXSo5j7Ha+Lvbpg+g4JfzyiEDZ2x3iOYPZ7bH8+fP3QAg5//+3//L6TcAAADAL+rHBUeszG3zzmei0zayZrCmyCnOuZIlkhxJBEcc1lSS8s7rzvnD+tMHIvJqOg5wMUynaM4Ndjh37py12aETt97l888HAAAAAMCv64cFR6zE2djEp/WZaawbxyFyyIyL3EmfOaQGR1qk1REPwal80FLfrSN6zryUCclR5hrCrEwcvrJOA0DLfLeOHrHdH+65AgAAAPz6flRwRAvuGO32E3drakb6uenM5ChwYzqc9OAYun+SnofQbM+0iENjpp5h31SlpYX+PSM5t75Dh64BG5rvuGSYEecuP1T/zerD9oXi/wcAAADAr+zHBEdGif9OrTF73ooLji30hFMTKD0oE8xjBSeUpseaj6Mo6jgKTNWDv1FR5w77KVrovqGqU05F8+/+gRXfWzHNNIr9V5ifH8/Mo5Ms4mE6HpmiJ5+ZOmiNeynnIQAAAAB+XV0eHOmxdmtnjx3YS0VFRVVda6F1mODpcYxvD/fpztdSV2W+qtJnyPQla41swxrpKfd26S2dosF8ts+IWboGZs8KqGnOJsynBjOf6jtsxnJ9s2eFtNAD2ro2t87sP2H3yC8o2PeB7QHjPXcSudkUzXlgOHrAMD03mOdZlmqjzy5ZeCRQ4Fp3AAAAAPyyftzFMTLXWF7OugUh1ljyOSYyOuFbOdk74IH2wSo+XNl33CO9EWuurITbPAMAAAC/vl8oOIJOgZZH3rE4cebCBevrXr4u9v6cEVtGwasL5rc/FNfV19fkPrS2T8WfBQAAAMCvDIIjkICe+dBw2pKrqazzCepebddUnGjBumUjVu63c5QiPl8mi1xvfS8YcQQAAAB+fRAcASE06+ZCtfEnYtn3/25+vUNDc1cQTNkIAAAA/LYgOAIirCk1lbSOx7AvQ6fHmY9XW/dEdMZ2AAAAAPw+IDgCIs191YxeNuL/RbOvzlGdb5/PKE9LLYbL0gEAAIDfFARHQIQ+cahJCOswNVYdcWJaLy2zT81Zjtb3CyE4AgAAAL8pCI6AUOCx5eutH7o7nDlh63Jx9ZRVVlfNL70RujcPAAAAAH4nEByBBFhzRWFxLX6SI9pQll/WCKkRAAAA+I1BcAQAAAAAAKRAcAQAAAAAAKRAcAQAAAAAAKRAcAQAAAAAAKRAcAQAAAAAAKRAcAQAAAAAAKRAcAQAAAAAAKRAcAQAAAAAAKRAcAQAAAAAAKRAcAQAAAAAAKRAcAQAAAAAAKRAcAQAAAAAAKRAcAQAAAAAAKRAcAQAAAAAAKRAcAQAAAAAAKRAcAQAAAAAAKRAcAQAAAAAAKRAcAQAAAAAAKRAcAQAAAAAAKRAcAQA/Iyw+oKE0MCAoI9fK+icp0A3AMsFgF8cBEcAwM8GKwu6ann92cevBbkJ7ju1x626Ht/AeUkYVpvy7lMpynlEhP41LCyPxnkA2g+WCwC/gd8sODKaqssK8soaOQ+7zg/74jZCq76G+7g/fP4xv4nzDOhK0P6koN9sZ/YaZvIaDyVort0/iqorH1Ri+GsCsOoPNptN/UpavdBKU8qtrTtdvkBG6RhYLgD8DqQHR0Zl+jtvF3vbSzdcn73/Us3gPN1ude/Or1+zbN7ksaNGjhw1ZvL8lev0ONbqLl2gPX406/lxO5/Xcd6PVcW5X3N4nd3MedxetPCzOlOH9FaQUxiyL7QrN0QEXyyreskOo8Dn8DxtgxthsW6GQ9QXO2ZzngddA9qfvKa0J+ftXufjI1aMVOvJyMAtAaJRm5HtZqRrk0ByBcPK/XavMH1fLT3M/B6whpyYuLy2/nyB5SJjaHX6azd724tXnXwSyqicJwH4wSQHR1qm5/Ft+229Pn4pKi1I9rNerNHv7+2Pvsqg/1LDD4xQ6IHMt2dvY/iaCkKvrh2hMv1cOjuiMj7bTEN6yPVa51mPP+6YWm8DNUoXB0dcqy+Wbb1kAC1wWqo20OBpBYZm39Lpo/yXZRznlZ8SWpqaVibtSFh38ou1f5fBKoP3jtNc6pAhcj4dmnt35bxTMeLjCVYVde/cg0Tho6jYd68Ns/eF1HIe/tbQ3JsLVeVV1z7m/n5vs+69XNq1eRBbuk5Ez/c9tHCBycP47820qrRnxxbN3SaTnS8AHSUpODK+XF2x4nx0BW+QEStzW9lHXmmqdVKHT3pmJFv9hfRQ1LlTKuaXZH3I3jm7gzlrSHOK6541eub+RbJIAbT3e4cgPyI4tv5imdar47Dvzkt6Ki1zrcIfoTRah4eWf6wG74NHuV3oZ/CrtX8XwMo+ONscWfvXiPmnQ8tF1iKs8rnxeD2P7+LHqdDc6/MUlXTuiB4rpadYz9S2jIN9M3P9SXpofe7p5/acW/MzLJf2bB6IStdJ6BlX5w+ce/Ubf/db5Lzsj2mWMd3+fCfw65MUHKtdlyn1kFPb4MM71sBIOj0J6YHMvpLV0bQjMTgyY9YRE7fWp8Z0HC103w8Kjj/qi8liZJyfjvQxetF9jpx3CD3eQmfPzxQcf7H270LU7EcGo0etc84QWLfQHPuFo7YHEo0NVbmv6oVMtfncKpyjeTcWahp4dcam57fTnZdLuzYPhKXrFLUvNw7sqeNYLFjlmqd6an11HxDEbgC6jKTgiOY+NzUwsgwo5KVEWsThkQpyysvul3e060oOjliJ07HzyZ2wgkJwJMLIODcd6Wv08tcILo3hh7Q0d/1cwfFXav+uRY89oYX0WebC28ky0s5OG7wlgGhopvnNjj+REYc+iFkZ0Ry7uf1XuMKuWRa67XJp1+ZBQuk6QYPPxv6UEYcihL6NkWYzFRF7uREAXUr6xTEC0K8XZyDy/dc8Epv22kRMcGQk2Zi5VbAfoiVpaXg4pTdWFedkJH2KSCnhxFeMVl9RmPU5ISrqC77+NJemRb4Pj80oaSAqFK0qK+5DZFJ+HUoyv6HNNWX531JjPybkMbdxaE12TPjHDKE5yegVGeH+no+fh8Tk1BAPvkr4YvH1KspOT4yOSC7mRGbBp4RODqCVp4f6eLg98AyIKWhCy9PSismMANNrcuOCvJ/6f/xaQRVqK0ZzQ0NNvNUUpI/+k8p6poZm6aEd/2teHt5vPuXW8f4auUoQti9Kp9K5NcEYvP8yaDT2f1E69zkJCwCr+/xg01glhUHb/KpYlalvaKTibyHZwtKXfgujriAxxNv9sc+Hb224Wky27Y81FCZ9CI3O5BQAZT6M+JCQX0+0FnQStDYvkfm9BRK/F2sqzYgJC4v6XCImM2BNZV9iwiMScquF2piPzlyNwt++/Zj+nZuq6fE2MzUnHHnHORSCFtyYj1DGmkZz+1fWlTl9Vz5gH/UXgNIaG5itWxNpNg7pZ/CkjNnQDVSRlqbHn5ygbvi8veexNZWkREalfxeNJBjWtYuF1FJp3a5s4uuANRYkRiUVcRcg1licGvn2bWRamcCHu81yac/mgQiZ0skcq7oURPvCF6Evwr7fXaSooLnnXdeEVwCItCE4YiXPNw5VHbvFu0DiekaOmODY4L9r031OcORA872O6P4zqrd8D6VV7uyLSBgp97Yvnz2il7y8xq43ecFXzKxueQWHv3HYNHHwTLMg4V+kWEXkNWOd/+2w9QgOD/VzuXjc0unGVunBkRphq/e/aYOV5JBZl+LDbxw9cfni9r96/7H2Efvl5s+PLEwvur6K+fItwff8Gu1/TO4ni1zgIu2LCeq1Ys7IXsynlrvVsJ9Kc9q5Yg6zqj0Ul7pU4k8xNac57TIyexCRWVZTU/Yl1M1ildYgqUc4G1JcTZavOeLo/ynjS9zr+6f0l2668Yl7oSI9yWnPpo2rpg6QVxgy19DY2HjTLoc4gp04rvnrk31zJ/135H5IXGL068fXLQ9aeWWxPkCuEoTtm5/qumfN3BGqcj3kkEFTV1kHV+ElbHx3avpAipycksZ0g1uJdIkLAM3xsd69ZYPOGGV55bE6G5iVMTbebPokk7n9JdnCUpY+WhJ0esmMJSeexGbnpAbZG2pr7/DIlLodl237t2ClIVeOnrr14l2Q8/Z5Ouc/VSTdP2Hh4PfW4/BMLV2nTBmsn2TQi0Ns9BcbWj0KDvW7ZWbp7me3TufYG5FrGBozX1roLzU64fjiXcT757eOH74Rzb/eoinb97TBcqOTd/1C3/vYbZ634MDzXKGKMwoDLIy3Wjr7h0dFvH50ft8h5zRWnqHHnZw6zsDtK2evWhe4XRMZahLM7QQ1D3V7T7RIEGlCrDL4/NZNxsYbl03sK4+MWGDEaultNoFlQtuMlgZvA7VRRyLbsWtGC3zOmtk9C7Rfq6Vz/TP/2xs/npjUf/EdzqPORmqpELQrtw7er66t0fpPoA5Y2Ssbs1t+Hnu0/z7wprIh7eGJfSevub96/8bBaMLYzV7c87S7xXJp5+aBAMnSyVqz70Y1OWTutVzhdbnu4UolOaUVnM0XAD+K9OCI1aT6O9ufO77tf/N0zZ8ks/flHcYOjsjUg0/fBAUFvQnwdrJaO7bvEmfh4IijxxzXovACFo7+8cgo5I8lO6xdPnMTU633+n6I4FYJqww5NKnftJNR/P0UWui5cbgiuel4Gl5u6Kc4df3hc/7lGCP9us7gIavusZ5Hs64vmbHtYQq3NPVhB8cgQ3a+5n8L2S8WUy9a2P6hCrxYg6NHm46l8GMNVnRv2SShwyW0+FOzjSUGR3rm3eWD/zKNFLhAkvrZdq7GPxcS+DNl4IdKhUsjHlr4ZP2QvnNsU7kjEswUc2aR1gqnIs6ik14JFnHtm83aSqLZ1+cpU0YeFjpIU+e5XntfCD7CLH0BMKsXtHMQRUPcsShyhSNc+vVRp6b2HrUrkHesqDnabHyv6TbJIjtDIbJtf+bfy7hz2OYDO3ayDgL0GaO9+SZzZ017t1tTQUGk5QTQc9663LphT8aNm3cDMsSMDvIx8p9uGjtstWs2p+Y1L7ZqKin8sT1QoCdileFWc4dMP/aWc2ZLQ9zNjdNG6j/B64hVR9r8q/nXvte8WaCpUaZaavPsuLGD1SZX/51pzr0AF6uJva238HAYq3ZYVcTN4+ZXXP3C4+OCb22YrLXiUlQNd5m0xJqPU+FeZtQKVuG2QgXhzdrQCj32xDgVZm/g/TWSsCL34zYRzKrR3u3RVJpzFe/MLKwuhwzaHsh5KKrLl4qEdiWqAyPF1tSZuX7XPtLtqaK9dp+lbyGn9ehx5uOUplinch5KXC70rlguHds8EJJWOi5ZLc26R7pKPRQX3CwUrm7j4zVKPZB51/OE8yQAXYzEiCOjtiQ3J/tL4ltX0xWzdXY7xctiSi12cKRoGV68zXTT7rzZBm11ZbHBUcwulZFqPQWhDN4RyF/v8Ot2eq55wn2mIXT/KER940vhn9pUP2OS0/HQ3jL3wj0nnvokEglob00GKyho7n7L/ROsbSxl0M4g7laI9BeLq1ey1d+IcKzBp+3hxxpa5OFRA5Y75Qlsv6ghZqa+xMERK3HT7aes48DNdRy1T/XUVOfZfeNugcgGl9qAbZoU9Q0C1Wvy3dhPnjLJMpFTJumVYCFqX2aByx+tVqMM3f2Wn6po0dYHXDgVkLoAmIj3DOQKR1A69NvVf5SRWZcFh/ToCacmKA7Z+56wR8m4/ZlpzPvgoZe80Urmrw+kt+5DfL1pygn3fZ9JeDSPlhl4+/IlWzIuXbZ/ztv3ikH/Yr9QTW3JPf5kWoyUM38Ln36F5tzXHaQy80Iat2no8RaTlPvPv5LC7Cho/qO1GspTreIFO27TM4PeyF9W3JObWYfr1NY94e7yaRHm2pO3POafcc2oyvz0NuDVu/jsKuHWf2mkpr71FUEsaArYOhAZfpDwVDXW8VUVfiHIYqRdOniTFbRoH4+ORgZtDeAuBkba2SlIr1WPCPJSVy8VJsJ25dWB/slMCxm4yY9TB3r8+aP3izFmX7eYiCj+fUrgul48FYucike0XJq7Yrl0bPNASFrpuGS1NCtdlir2UPzPQejaGGYTeq7rKSeyBQKg67XpHEes+tX2IZTeM6yipO7epGEHR8FD1ViV50ZDlzYER0UdB4GJEfDdP286k5Z6X2N1eaUlziJX8VADtvRvQ3Dss/55q5+EjPJE/5fR3JPkmFtV5i9hirLeU84ekPwXE9VLcqyp8d+mqYBozN5s6eAVkpBXy9oJU6mt0hcPVuTwX0/KmGPc84y4GF8uaCMC1wiSDC51zw37ySsuvid4TgBa9SUmpYSXAEhUgomwfZnq/Lf+SVE3el7NedwYbH70GW+oW8oCYJEQHEkVTnzp0KzLsxHBfRKu3mO1MvKPncgxJR4Ztz+zFEUfI/DzAliwwlsLlRQX3JTF2SPkMbOr4UDKAKPn/F8PWOndxT2ZezTedAtYxTOjQZT+ep5CazS1GT+7E6vy2TSYorbGXXgtqXNfpSzff7M/Z7HRo46NoSiNXGbm6PspSyQbSvRIV5lwHWdmorFIP6MXhO2MVTgvUW77NRD0jIgo1krR/G7vUGTwriDurx6s2FFHidk/cjp9CZFZKjjCduXVIezACERzVxC399MzomKY0ROvSs/F9wTOcEfz7ecr9lxEboaaui5ZLh3aPBCRWjpZq324UqkH8q/oiGODx2rm08RbGwC6RpuCI3OHGrZ/mIJcz9mXhU/abbvWwZH5e9bGlHtxjKD2BCz8kcA+iKttwREZSvDO+swgx5M7jDZu329uY3tk0SAFpbWe7A1TG764fcGxBauNv7tt+gCKXA8mOWTgjO0O0SIpVRAtxGSwPDKt1SQSWImDjqJcL31vzh6OXHDBL+uTVzP2k7DNJR8cCduXGnF4NKX3Mhd8f4RVPTt2Mlg4YBIvAJxMgmOr0lHf7Bgkr6C5xOzyVQFXrI+Z7LYNJloEsm1/UbVP9foif59hjeF1HazMZamKfJ+1j7nBnqnhhVE/RMuMN0KLFd9ZpCyvpvdUoKF5WH9AVb7PGg/h817wczeYGTuK+0cYOR4bR/dkd3SK2gSDW/HkWuf+UuVhB8LF9iw068pspOeiuxKSTrXrcuVh+/Ej4m3XFLRrMKJpEswbLa/zNlBDxplLPmdVFsgsFQ4p7drwarsGMvpIpOjaU+ulr4Zon8/gdzas4sHKXq0u4SBS1WXLpd2bBwIkSidjzS+M+og5x7HmwQqlHkrL7hMNXwPQNSQER2reexf7+5FCN6LHCm8uUOwhJxT42kVMcGyh11bXi/kl1e7gKKe2UfQQbhuD4/DWmzms5tPlZUMHzTjk/YVdINZZPhTh4Ejui9sZHHFYU0nKO6875w/rTx/IDHI6DoS3p6OGmGjIUyacEj0lHc29NheRU9Xz4iQyksExnfku1tSeItUT1IbgKKZ92fCAqjTnaibaghXdP2QTw3+blAWAE94zYLWFhdwTrdoSHEVLxzropUBpfXa/RLJtfxH4tPJE6bs1jFpXWVFORkVlbTPhoAY1YHN/eWSe4E2faB8OjkAGbn3Fy0vNPhvU5BT/uy1yqI2N6o//AZEztdDMy7MQ+YGbuQdI2ZqLYn2cL5tvmT9ESY4ZwGLJtL3nOtU/hY5N8mCVD1aqSp6LDyt11FEZf7J9SQ8/cisw3sheQoN2vJGwvnThUhFA3K7VXgb9kUmWiaINwOzJmsLT0WCV7mv6IFPOppH73dLUFculY5sH8UiUjkdGS5P9I2qihfBSQHPs/kEUBpsIH/MAoMsRB8cGL/3ecj0oo49+FOi7rEMTSA9m4HPs4I8vccGRQLsCVoPPxgGih1SZOhwca1/vHIL0W+nKv98LPfaEFnvDhJYmJhSS/2Kx9TorWi96osVEgUs3aJFWRzwEh2XRUt+tI3rOvMR52ApWePu/ngoaJqI/r1nn5lHafqi0wW+TuryYO0UKkF4JFsnBsQXNu7VQmbX7av5mf8hOYJBD2gLAnxLeM9BCbWxCONUnVzjxpcPKnJeqyKu3vvmuJDJufyH4GWx99J7yTvxvTguNJL7cs/H96UWzZmiTMWPmvwdeinRhnqr7S5UUhOIqXnj2qXRoUcSHbwz2e4hWNNZxOHnRJmF8uThDERlnGoW3Lq042ssjNJ//cfyOjD1XPhQ+dVi80H1De697Iu5cz6ZX2/5AeMNWWPWnsEThoWxmOZgbEpVWQz3k4BuhXmsf83oXI8V6MtJrtbuEEaKuWyqs56S2K1bmuqKP4oyLrEFERk54OC/c0xMtJ7GO1vKbFfvutrKPIvuCETQ3PFxak9G6YLlI3T6zniLePIhHonRcslqaLfXP1qsp/LHjjVDB8Ov4VJY4d/Il3QBIQxwcaSEmwzX+Xn0uXPDXGGvdV5Bj/sjkXkbH7MzfM5Jz2zx7XGcHx5b6kN3DkQEbXgpeTcdcr70N+nQkOFKDd/0pr7jorsCa2+S/WV0e3zDRwqxOB5L/YjH1QjMvzUSUlgoeiahyX9NbTiA4hu6fpCd8iI8WcWjM1DOcB61hpe5rBiB/nRa+TSSad3OBcq+FN3jXfpINLg3v94+k9F7iJDyUxPhsf/Yx52it9EqwSAmOLVi5+xo1ynCT61ZHnATO4JO6APCnaGEHhlF45+FTX521+cj5HnKFIygdVvF8w5/IyANhwsmRGmtj6kbYj2Xc/ljt16Dn77JZJWCNPygiMy9xL7DByj2PWrwj2qXJTpPPBjVm5OWPM6G59vOVkFmXMtEWtPCexc0sFB+dRYR/dLJgFaH29z7WhB8Yzt8R47Aq/21De2rtDcIv48DKXJapyinNuy4QE6hvTYZPF/hSCfKuz1PBSyOKwQo/auufsRuZnnbd7C5vAXBRg000/+B2HTZaWVrcl0qRqoiDDziO4c1byDkFtZ0ptI2kLxUy7YoV312kojTvGuuUTFrUWTPuSs0MmDcXKPZcdJffz7FS56WqSrOvsNqZHnv+uDthCOJAZb1cWiOxfWYi3jyIRaZ0slf9zFCduaQER+WxQgcd5V5LnPiDNu3b+QLQURIOVdOSL+lvf5QlsKZilb5bNBWQUTsDeGNe9Fjz8YgcMsmC85gs/LdTD0Rg1gpCrJ+6FOF9PWtiB4qijqPgcW7WCI5gEMXKX+3W6jfnQgr/GEV9/NUlgxH5/sa+0veuza+2qlNaHVjBB6woY49EcqMDWvTMRn9WX6WFt4vRhpeWNlHkv1hMvVqamFtHxcn8c9aaUh33zh1F4Z9cz0ruqlNORQv87i++t2KaKfN7CaF5HuuHa+q65PD3KWW+20ZrLHUQuBsYXhrF/zlJOF2SDasMOjCh98jNz4t4f46e/ejomSDexfZSK8Eivn0F1Qds01BQHGT0RPCSUKkLAH8SK3+4qi8ywxaPVIwUO6vHvJ0aqcIRlg4rebF1tPq8CwIjDo0pN0xOBUuaaUCW7c/cfWrIU0YfjaK3NMeeX689phf3cDD2PdDK/Cn/muPOg1U8Nfhj8I7XnDaoi7+9599Rivhdb9Acx5O38UsxaHGWf/edc4V31ThTY9bL0yanXxUzY2Wi9bQ+My7wBpKbv7qsHT5Szzmds1SxUhejpafe5PDXIEaem/4cE3+pvRNHizwyeqCxn3C8Z2FdLazE+dXblHTzyLW4Vu9hpZveC28JXJRA/3RciyKnqGXa6qS/VlhZTVlzzzv2G7HKkAPjFZEJJ+NJZM4OI7NUpLcr6xAps4WYORIrfmp+Loy3nan11OsjfLSWHn9yvBJ+MBUre2Fx7r20nzyyXi7ikNk+M5uBePMgDonSdQZq0vlZ/WfY8KY9a2F8uzq3z4RjEbxl0t6dLwAdJfHiGLT0rY2h7hZLJ7+IhOSY144m2gP/mLHX85vA6SJozgPD0QOG6blxHktX9/acod7q/yYMVFVRUe3158T/Vunprz/2VOyPckaay269ZVM1e6moqI2avXLTjVg6PeXeLr2lUzSYn+4zYpaugdmzAmqaswnzqcHMp/oOm7Fc3+wZ9+PFIefWL1q5z87rTZCP67UzZxxD3Db1l5dT1Jiis9aWcC5Z6odLhmv+G6+uqqLaf+w8XT1DCz9+Qq1Purt15ogJq067+r567mRredkvuzbOdoHGkDnrt5l7ZrG3q1K+WFy98M8x27M44OjcvxebOvsGBXg4XLS6HhhtNw+RU1AbO3/lEW9WcDygrWtz68z+E3aP/IKCfR/YHjDecydR2kabnh9obbB03V7rWw/dHW0O6i9de/zZN+7mj4G331Rm+6n2GTp96Tr93c6SB3bQsrDLhjOnLdt/+b6n5/0rFodPe6QJRnHJlSiQ2L4CqB+Pag3d+Vrk0JaUBcB5FzXd2Wji2EUnnD0cLY45xAn8DWktLK10jKKQc/pz5xtZ3nv6/ImjzdH9Z7y/SU0UMmt/xjen1ZP+NXP387hsZuWVVf7Beumivfd8fdwuHTe/Fyv5VC3ZQYtemS7+3z4nH58HVy0tHD6UlQXunzp7r6v7+WNXI7gHPalf3Xf9t2Tf7Zchb189uX3ulJn51YAsbp1pWZ57dHR22nkF+D28sHu17s4bkWWCdW7+7H766Bl7d/+Qd29eul05bmJi7ZcraVhISKP/5j8niDsfkp7huGLSchvvpw5WR2388sW0cq2XvvrMi18FtkZotvMqzb5/DtM5J/0aJKw20kZn0qITHoH+j67bWJvM78f6+SGwvexMZJaK1HZtirWZM2Xj7WdO1ma3Ivn9ifVDX0nkMpvmuHNzJxvd9HY+a2b/gdT8vjJdLuKR2j5L2DyII710nYOe471n9qwtzjGlzc3lSR675043dvsqsK1p+84XANmQGBxxtO9poT4Pb1+2tbvn/SGbf3e5nwe14ltS4tfSBtZP7qrsxOT0rIKy6kZ6B2rCqCtKj4+J/1LayP0j9Prq+lbbw/Z+Ma0qJ/nTx+jUYlYao5akJ6R+zS2prKexPthYXs66tyLWWPI5JjI64Vu51NAigFadk5KcJXLDu3ajV+cmxyVlVYjfL0qqBEnEp62TWgBobUFqfArrho+tdLxwtKrspLjknLbMEiOr9m8qTY+L/8Jb8Iza3JRk0akMOx/rToFJqXk13EbHGou+Zrc6ntv8/Wv8p5jkzDLeghKANhSnxydkFNUR7IqpVXmf4z7FpeZUtqWTszQGm4zUFn8xA1pfmJaQVkRwfK8hYOvwf4TGSTmaAy5cIjlySC3/lhCXVlDbFGs+jjWjq/BJK52L1FKR0q6szVZKfq1wGzCqczJLW72dxnxrMj4nGDmyXy5idXTz0Jrk0nUiemVaoJv95Su3HvjFlXT1Og4AAenBEQAAfi70hNNTp7T5GDFW5bV+9FpxJ+sxvtjbCF2U1hpa/MbGZL9TIndQtTHswCilcWZRXTTe+HOQ9XIBAPwAEBwBAL8crDpw1wzjZ5KznghGuu2CeTbJYsZ1aEn2555JPsGSkWo9GaFobgtgHxRuirfWHjDZLIzMVeC/E9kuFwDAjwDBEQDwC8JKnm3737Ew0geK0bz7BotPRwuerMvRnHrnxO1kKYfLsVIPk60u2ax0g9Um3d0wb4nFa/71Y4BHdssFAPBjQHAEAPya6j5aGx7wKSFzFltz6o1N210zxR1DZeR8jCwgEQGxik9uly5cvnr18iV77yRZ3NH/VyWb5QIA+EEgOAIAfl1o2Tu7y/7FkkMKLe3BBXfuZECgK8ByAeCnBcERAAAAAACQAsERAAAAAACQAsERdByae99wzILtMyU6duwY5+0AAAAA+DlBcAQd1hh2YJz2wYCviRLl5ORw3g8AAACAnxMER9BBaKHTslH6T8jdRhgAAAAAP7FuEhwZmZ5n78W39cZioBugRpv9NflkXDeenZfRVF1WkFcGE8EBAAAAHdU9giOddVdXjR2vYd8uCq1Of+1mb3vxqpNPQpn0YI1V+Fgcc4vPq6hvptEZwlDOzBeM7Hfe777V8CemQ+tzwr2Dv7ZrqjSszH3tSF3XYoHhRkZl+jtvF3vbSzdcn73/Uv1D50CmhZ/VmTqkt4KcwpB9oT/PnSfattTJLHS+psLo5/fszp+7fNcn8XurZU6r+BLh43r96u3HbxJLxN4sj1qS9MbzztVL9q7Pw7+J3NCYjUTp29itAQAAdBvdIjjSok3HUnrID9riX895BjDR830PLVxg8jD+ezOtKu3ZsUVztz36KnkvS4s8Mkqhh1jyauseV7LyXfMLw95yckgfTa2pM+fM1p44TE15kI5tDOk7OQiiJ1lNm3AkgjfRGi3T8/i2/bZeH78UlRYk+1kv1uj393Zphe5std4GapSfJji2famTWeg4Wo6vmc7k/448/JhZlJ8e6WWzdY9rFj/Y1yU6GE2bsfFGUGpefvrbmxumT9v2OFsoWjalOu/fdMjeN+Zrfn5G1POLG/9ddNhHaG5sEqVvR7cGAADQbXSH4EiLMFu9cHY/eXn1jS/bFV9+SfSMq/MHzr36jbdbxoqcl/0xzTJG0rBslduqoX8tWrVO32C9oQADHS3NRbe+sUNA8wtjrYnTR6krI4hy/xHaqw45RpS078YMWOWzDaMWO+Zxh50YX66uWHE+uoJf5DK3lX3klaZaJ7XvC2SD9n7vEOQnCY7tWepkFnpLC1rwdOOYUYZP8jlP0KIsp6n1/Ot0Evur0PyHazV6zbvKH3impdho99U+m8TLdA1hZnqnPwkWBKt8tfMvnRuZ3A5AovTt6tYAAAC6jW4QHJtDj268nvJy8x/y8v3Xe9dwnv3d1b7cOLCnjqPgMeCWmqd6an11H3wnvAyFHmt90EnoIyxoruvWrfdzuHv35hc7djwTexSyjRjpF2dr7Q7hjxJXuy5T6iGntsGHNwLJSDo9CemBzL6SJe6YZhehhe77WYJje5Y6qYWO5rksV1db4VrCex8t9tz8kRO2eLI/2RhiMlSh5xJnwW9Bv9nOVOyn/7SK/bDJf+uUfe9FGpH+8ei4hfb57K8hUfp2dWsAAADdx48Pjk0hh4xv5aGNgdv/lJdX0/Pk7KZ+cw0+G/tTRhyKENpPM9JspiKqKx/wDz6KaPC3vc4ZQeJhZN7ZvNOjgB/cZBUcawO2j5lvxxttYkJzn5saGFkGFPKeo0UcHqkgp7zs/o+85vrnCY7tWupkFnpzxOHRiJqBN9GAPrOJhirI/7kzSOiQMTVgc3+Fvnqe+I85rNzpf6qTLeOFew4t4tC4xZwcSKL07evWAAAAuo8fHhwbXx/YdIeVNJqCdmkqyPVd417Rav+B0eorCrM+J0RFfcF3Ls2laZHvw2MzShpavZVWnh7q4+H2wDMgpqAJLU9LE7wZKoZ1ZNeENZelR0clF9SJ7KQ7Az3+5AQKon3hi9B3Yd/vLlJU0NzzjnwEomfc2Ljbmz/OxCSb4IhmXV8wZqu/5AFi9OvFGYh8/zWPSsk0PL0iI9zf8/HzkJicGoGlxtKGHsBBq8qK+xCZlF+HtjU40r+nJ+eLHjjFWl9lInuyWuqtFjo12GSwPDKfOzLYWt0jXSU5heEHPwh9Bz3q6GgKZfTRKPzwNf2TmRYF0Vx05k0+911Ypc+Wv1e5sn8okCi9zLo1AACAH+VHB8f6gL2bndkDFs3v9gxVkOu90k30mBUj5d725bNH9JKX19j1Ji/4ipnVLa/g8DcOmyYOnmkWxH93c5rTLiOzBxGZZTU1ZV9C3SxWaQ0yesGJSGjmnaUDew1d55LdjgRAzQ04s2Wz+b1XYcH3D/xP58CLvE4Oj82+G9XkkLnXcoULW/dwpZKc0go3ssfz6el2eru8RdqTFRyfFsW52xw5dNzK5qzNJbfI4jafgtjwbq/WzPOfJTYDVvJ841DVsVu8BYY7iTR/fmRhetH1VcyXbwm+59do/2NyP5l/DJxsD2DBKiKvGev8b4etR3B4qJ/LxeOWTje2kg+OaJb9v73VNvhwk3Vz9qvrZuv+6oOorXpYJtIxZU02S731Qmcknf4LkVPb6FPzzffaufMXbW3PnzpywiGcf2pr8/P1veUUhu0PEw6O0cfGUOR6rnJnD1SihY/1B1Pk5BTUpu5wSqhmlEfYbjY+H8b9JhKll1G3BgAA8OP84OBY52OyxZU7HEUNPzBCQa7XUmdx41P0j0dGIX8s2WHt8pm7T6/1Xt8PmWiRwN79YUX3lk06JDhkQos/NduYGxzpCVZ/K8kpTj6T2NaQ1BB/6T+tZbczOEfxmkP3De+34r7QWVp89Jy3Lrdu2JNx4+bdgAyCSwJYI0A9FBfcLBT+lsbHa5R6IPOu8y5HkQgrfmCw7HKGaLhrfmE8Yf4+x49leFOh34MOTB666GpCA/4iHzUvyD2I4IvQ/DtLRhl6tx4bZsFqUv2d7c8d3/a/ebrmT5KrxDeUEDTr+pIZ2x6mcKNifdjBMciQna+FjqxK7QFMWGXIoUn9pp2M4n8SLfTcOFyR7HQ8WMndRT0V/72BZ11qjq+t5e33haUBR/6du/n+F8Ke042WuriFjuc1Bc0NVpcuvyll/xG05OWWscPXuHCunUFzr89TlO+/JUDoUHW9l34fuR6KC2/zOntz1rPDs9Upcj3kFNU1/97oyT8pgVTpZdKtAQAA/Eg/NjjWPNu19RH/9Dda5JHRFDmVRXeKhHcsLIxU6ykIZfCOQP5OF7/youeaJ+xnaJGHRw1Y7iQ4FkgNMTP15YaMlpam4m95osdApcFqQvaNVdO5zR8jQfPt5ymqrnKv5jwWRssMvH35ki0Zly7bP+dFJRGVLksVeyj+5yAST5s91/WUQ2ZdFjyxkBAt7tS0/66LDO4wMb4FB2bwW4UZv15sUFeaaP6J/xwtz+/43D8UFIbsChJXwOaPxyZOtUwgCmKM2pLcnOwviW9dTVfM1tntFF/denEKo701GaygoLn7LfdP0t7t0aQMEj7lTmoPYGb80P2jEPWNL2s5j9mofsakp+Opf26ohow3j6NjVdF3Tl0M4F6DLFn3WepiF3rNgxVKPeRVh272FDjVFM2zn6/U61979l/Fyp7oDUQmW6cKrD61AQfHq8n3QP6x411jg9WlPTHfoK+nM1KZGR7l+07a6vqZ2/gkSi+Lbg0AAOCH+pHBEavy3Kx/PTm/gCf7xY5hCnLK/91ufXATjw2KOg4CZ24xPttMQ5SWuXIup6nx36apgGjM3mzp4BWSkFfL3AWiVGpbxxeFMdLOaytrbAsQ2NPTEywmUpC51zp1eKT24UqlHsi/okMzDR6rmU//Y9c6DbZW/czwz6lnBYMAEazUUUdRXt3Ylz3oyMj0OHbUKcJ7h6aCXJ+lzq1CPFbyYPWoNQ/JnLaIVb/aPoTSe4ZVFEFU4mKUJ/q/jC7mFZYee2IcRVnvqWC+ld4D6n2N1eWVljiLXIlDDdjSn2RwpIUfGE7pv8bW/frZK88+iw7CdraOL3XxC73Jc52ynJzS/5yEGob5S2ukAmXCqXj2KoKV+JpMHK577yu7zbHyUPsrV/f9hfTgtS8j/5nJv8svRNdgrADpfmD2QIqcnHz/fy/F49mRROll0K0BAAD8WD8wOGIV7sZzV5vsFrJp3mAFOaX5rQfK8NigtFzwPCg8NigudankPMZq4+9umz6AIsea+lgOGThju0N0x67mpccc10IGbX3FH+NqwSrdVijLqax5LCUKdUzzC6M+Yk4Gw4eOlJbdl37lOfb9gW7fPgbeAiUn1uylpyJH0Toew3mMY6TZTFOUQ/4+LTIHIy3Bcsok0yjBSCcBLWw/86dAz9mXha+HEKc+M8jx5A6jjdv3m9vYHlk0SEFprWer4CipB+CP5Ptv9hc63tqW4Ij/hZ6j5q8x2LRzq5HRzuNXnnwqJTNQKRsdXepEC50auE1dXn7gtkChhmEkW/2N9FBczI+TWHWi+5mjJ85euHzN7srtV5m1rGviuVetMD5fnjduq5/Apc+Msg+XVw1XlFOei19bT6L0He7WAAAAfrQfFxyxMrfNO5+Jng9PT7ScRJFTnNNq4j8SwRGHNZWkvPO6c/6w/vSBiLyajkN7LobhwL+g99rHgoVs9N8yUF6x1b6PB6PWVVaUk1FRWdtMVDZWYqVQJloIn5CJ5tj9gygMNuEd0SVW46nXFxl/kjOaxIPVvLPUmTr/eLDQ0WP2pRGae99zHrNhZQ9Xq8krDN7qL3DkF6t4un7U0ntiL3eh5r13sb8fyTmLjg0rvLlAsYecos4dSSOUWM2ny8uGDppxyPsLO4/T48zHUdoVHOXUNgqcnYAjHRyx0ruLeypyz7VDq1Mebh2nMmils/Qu1D2WOsFCZ1/cLtfbkHu+Lxsj7ewUROKphXVP9XrL91rtzgp0tPADoyaax4r+afrXGzp9ey6+9x0jU/oOd2sAAAA/2g8LjliJs7GJT+t55ZjxYDIih8y4+FV4iEpqbKBFWh3xELxcAy313Tqi58xL7T5zin2hhHBGbAo20aSorXQTOUuLp/H96UWzZmiTMWPmvwdeilzxzFP/bL2awh873giNEdFZt2ZUWeIs/epe1jmCCsisy63id7LVX4hcLx0HobBQ7bpcqQfr3ZzHXE2h+0cqMN/tyJvGhZF2bobWvvdixzEbvPR7y/WgjD76USAWoPn285EePRR1HIWmBBJW+3rnEKTfStciXqHosSe02MERLU1MYF+CIf2nQ4PPxgHyiniKEUQ6ONa/MOqHTBAIXqzzWRFm6MUbvDnlQwzB2ZrdY6kTLXRmC7zbramguMRZ6GomevzJ8RT5fhteEo1Ks25liPTX88QHGWsfruzTqmVZaj1Wqy28xTqhgUTpO9itAQAA/HA/KjiiBXeMdvuJO9zLSD83nZkcp59LF0qO0oNj6P5Jeh5C1/DSIg6NmXomhfN36N8zknPr27BzYl0oQRkheKE2WuCyvF/feZdTO39spPqZobqS8GgQVuigo9xriZNABGPWKSmnrlWdsMKb/yJirkJoaal7eWCHa77QfruFGnZgOKXnrEutjyaj367M6SmHjDePZVe4xm/L6IX2BANwtBCT4Rp/rz4XXiPwpfjM0nLIFEknW1KDd/0pr7jorkBwaPLfrC6PB0damNVp9iFW6cGxpT5k93BkwAaRG1c2ehv0IRMcaR8OjkD+3BnEH5ejx5+agPQz9mXdCaf5rY3NW5GxTJkjtdTbvNCZTRx+YAQiMttOwwsjNQV1Ay88F2LVgQcmD5t27C2/6Rrf7R2h/PepGPZtgOgfj44dfTBcuOcwYcW3F/19gj0SSaL05Lo1AACAbuvHBEdGif9OrTF73oo9T5CecGoCpQdlgnms4F6KHms+jqKo4yhwxBN/I+8gKCuiqE45Fc2/ogErvrdimmkU+68wPz+emUcnWbQ6kEeEdXoepddg3dvcoET7em/lsHFbvfOJM5AMUZPOz+o/wyaV1wiMb1fn9plwLIJfQXrsSVadJlpwHvOwm1Dxf8JDTLjm2PNbLN4LnKmG5rvqDlSdfCKi9egvswkrvQzU5eX/2PCiGmPGyKvzx+4IFPc+HC35kv72R1kCSw2r9N2iqYCM2hkgfuYeNkbq2SkIZeyRSO6dCtGiZzb6s/oqLbxdjDa8tLThTEAtrQcwYeWvdmv1m3MhhZ/w6uOvLhmMyPc39pVyvif+i6X3Gg+By+UZXy5os2/njFU8P3UuorNzI5ml3p6FzlrKLiv+GL4tgLfg0ULXlQPUFlz7zF4d0Pwb/yr3GncwmLN0seoIc+0/Z5/9xPteRqbD4uHzLwhP24R9f73vP2PObQtJ9VkSbwEAANCNdXlwpMfarZ09dmAvFRUVVXWthdZhgjtjxreH+3Tna6mrMl9V6TNk+pK1RrZhjfSUe7v0lk7RYD7bZ8QsXQOzZwXUNGcT5lODmU/1HTZjub7Zs0Ja6AFtXZtbZ/afsHvkFxTs+8D2gPGeO4ncbIrmPDAcPWCYnhvRyYmiODdCcwy+e8rGxSfA68aRdcu2XIv4TvLjMkDP8d4ze9YW55jS5ubyJI/dc6cbu30ViGUtaO5DozEDhus94DzmwW/yIae86pHA6BwPNdPjoN7m026vo+Iife+eXD1prI7FG/4FzSKo0abMP6Xyr312bbCJ1hzbVtNCCkJL39oY6m6xdPKLSEiOee1ooj3wjxl7Pb9JC1z1SXe3zhwxYdVpV99Xz51sLS/7ZdfG2S7QGDJn/TZzzywGqR7A+VuM4pBz6xet3Gfn9SbIx/XamTOOIW6b+svLKWpM0VlrG0k87NjwZJ2q6MAXWvhk45SlZzwfnTto7S/pLE3ZkbbU27fQmRmv4v3pBePnHbj3JvrT2yeXtsycuMQmnJ8xsTI/U8M9119GJqXFv396cf2USasvRQhHUKw6+pre1KlrTjn5hMUlRgc/tduru8zkfqpg5JPaZ0m9BQAAQLf14y6OkbnG8nLWDeiwxpLPMZHRCd/KO7QzwooddXoqsqewY9RkJydnVfyInRu9Mi3Qzf7ylVsP/OJKyB8gZxS+d7rhRTRfIDMOlsb7Ol+7dM3lRVhqKXegTzw099ZCVTnKaP3N/47e+ILEdN6072mhPg9vX7a1u+f9Ibv1IVUijLqi9PiY+C+ljdyP0Our68mOD4uiVnxLSvxa2sBcfFhVdmJyelZBWXUjXVJpmku+5VS1+l3A6k+Jn0skN5KMtW+pS1vozGVZkxXh43rj+j3v9yliatSQ++Gpw+XzttddfOOJLiZnVH394OvuaGd350lgdLbYaVFJlL6d3RoAAMAP9wsFR9lincaPjDOPa29w+YXU+G3WkO8hh0w5kwytAQAAAPzOIDiKRwvbPxQZtP1155/V9hOgJ1j+pThg3WOii4EBAAAA8HuA4CgWPsddr1WPYEpiHFaT+i66qEuuCQIAAABA9wXBUSxqsMnwYYaPYYYQAAAAAAAeCI4AAAAAAIAUCI4AAAAAAIAUCI4AAAAAAIAUCI4AAAAAAIAUCI4AAAAAAIAUCI4AAAAAAIAUCI4AAAAAAIAUCI4AAAAAAIAUCI4AAAAAAIAUCI4AAAAAAIAUCI4AAAAAAIAUCI4AAAAAAIAUCI4AAAAAAIAUCI4AAAAAAIAUCI4AAAAAAIAUCI4AAAAAAIAUCI4AAAAAAIAUCI4AAAAAAIAUCI4AAAAAAIAUCI4AAAAAAIAUCI4AAAAAAIAUCI4AAAAAAIAUCI4AAAAAAIAUCI4AAAAAAIAUCI4AAAAAAIAUCI4AANAmWG3Ku0+lKOeRePSvYWF5NM4DAAD4ZfxmwZHRVF1WkFfWyHnYLmhz7ffCnJI6jPO4G5NFdbsAWvU13Mf94fOP+U2cZ0BXgvZvE6z6g81mU78SaRuAppRbW3e6fIHsCAD4tbQpOGIlfhZnX1V1LDHVvTu/fs2yeZPHjho5ctSYyfNXrtPjWKu7dIH2+NGs58ftfF7HeT9WFed+zeF1djPncXvRws/qTB3SW0FOYci+0HZuzOmJ9utmjFJD5ORU9b07WqDORVBdWbWmzDAKfA7P0za4ERbrZjhEfbFjNud50DWg/duIke1mpGuTQGoFwsr9dq8wfV/9E/zG7Ayo48H1q3RXCtJdZXQ1qjmqe287AQCStSE4YmXPN2j2nG+fL/kIDTnU8AMjFHogrf9aU0Ho1bUjVKafS2fgjxmfbaYhPeR6rfOsxx93TK23gRqFbHBES1PTylpXtvn9vmEK3T444lpVV7at2XFogdNStYEGTyswNPuWTh/lvyzjOK/8nAi6TLf1q7V/p0Nz766cdypG3LqPVUXdO/cgsYHzkA377rVh9r6QWs5DmWhXJxNbus6EfQ84YuHwyOOcwbpjD58+Pqe39tijp0+9noWk12A1v2mSBuAXQTo4YhX+e8b1khMT9dqFkWz1F9JDUedOqZhtSH3I3jm7g6nsB80prnvW6Jn7F8nia2nv9w5ByAbHBu+DR7mlEMBItZ6M/BzBsXV1ZdqaHYZ9d17SU2mZaxX+CKXR2D8Wfl4EXaa7+uXav5Nhlc+Nx+t5fBeXe9Dc6/MUlXTuiB7BpqdYz9S2jJNhp2hPJyMqXafByt4+fcv6pXrp4I0cFCtz2W8ZTee8BgD4uZEMjlhV0JnjFw5rI10SHJmB54iJW2UnbONooftIB0d6vIXOHvHBccrPEhzbUN0fgZFxfjrSx+jFr3LkiqjLdFe/Wvt3MjTHfuGo7YHiR+2q3Ff1QqbafG6VvdG8Gws1DbxktjlrVycjLF3nosdbGVgl0FuowXuXnk2BnyUA/BrIBcfad2ePP87LuDiji4IjVuJ07HxyJ2xn2pCkGsMPaWnuguDYmRgZ56YjfY1e/iLBhbDLdFe/WPt3Mkba2WmDtwSIv9Ss+c2OP5ERhz6IWdXQHLu5/Ve4ih2nbLt2dTIJpetMda92ztgTwixqpcvy0Xvfd9fNEACgbcgEx/oP50wf5qHo184NjowkGzO3CvZDtCQtrZz1X3pjVXFORtKniJQSztditPqKwqzPCVFRX/Af8c2laZHvw2MzShqINsy0qqy4D5FJ+XUo2SSF1X1+sGmsksKgbX5V9SwNjVRerQWDY1NJasT7MMIvZ9QVJIZ4uz/2+fCtWloMRptryvK/pcZ+TMhj7prQmuyY8I8ZFUJHd+gVGeH+no+fh8Tk1BAvBAnVFd+aRdnpidERycWcEgo+Jfj1tPL0UB8PtweeATEFTWh5WloxqY5Ar8mNC/J+6v/xawVVsJEYzQ0NNfFWU5A++k8q8TZuJvFLAf9rXh7ebz7l8i9rJ1cJwgZG6VQ6tyoYg/dfBo3G/i9K5z4nYQEQdpkOFk5AW3oTn8zaH636FhWRVMS98JpenRUbESupI3YKtDYvMeJDQkE90drOgjWVZsSEhUV9LhGT8rCmsi8x4REJudXCzctDZ65A4W/ffkz/LhSo0awrc/qufMA+rM+D0hobmI1XE2k2Duln8KSM2Y4NVJGGpMefnKBu+Jzk+YXt6WREyJSuEzksGmrEusoRq3RZ2nvWpW9d3FcAAJ1DenBsiLp47H42c5Xv7ODY4L9r031OcORA872O6P4zqrd8D6VV7uzLORgp97Yvnz2il7y8xq43ecFXzKxueQWHv3HYNHHwTLMg4V/1WEXkNWOd/+2w9QgOD/VzuXjc0unGVqnBEc3xsd69ZYPOGGV55bE6G4xZNps+yeRubznB0Sv/nZ2EL0dLgk4vmbHkxJPY7JzUIHtDbe0dHpkSvpYaYav3v2mDleSQWZfiw28cPXH54va/ev+x9hHn9ebPjyxML7q+ivnyLcH3/Brtf0zuJ4tc4CKtugStuWLOyF7Mp5a71bCfSnPauWIOs4F7KC51qcSfYn57mtMuI7MHEZllNTVlX0LdLFZpDZJ+hLMhxdVk+Zojjv6fMr7Evb5/Sn/pphufOJeY0pOc9mzauGrqAHmFIXMNmU28aZdDHMGenK3565N9cyf9d+R+SFxi9OvH1y0PWnllsT5BrhKEDZz/2XXPmrkjVOV6yCGDpq6yDmZPG9D47tT0gRQ5OSWN6Qa3EukSF4CELtPBwuGvtr03scmw/dGiZycP3/R7vEf7r/1vyrJ9zptfcHsVfH/3NC1990LOezobvTjERn+xodWj4FC/W2aW7n5263SOvRG57qQx86WF/lKjE44v3kW8f37r+OEb0dz5GZi/87J9TxssNzp51y/0vY/d5nkLDjzPFaozozDAwnirpbN/eFTE60fn9x1yTuMN7dU81O090SJB6P1YZfD5rZuMjTcum9hXHhmxwIjVkNtsAsuEtkMtDd4GaqOOREpdYO3tZARIlq7ToLM1DJ9Vs/7H3Nz/zQzdnXH2EQCgy0kLjk2xl4/e/YpvmzohOCJTDz59ExQU9CbA28lq7di+S5yFgyOOHnNci8KLOjj6xyOjkD+W7LB2+cwNL7Xe6/shgtt1rDLk0KR+005G8fcbaKHnxuGK5KbjoQbtHETRIDxU3XP2ehtX4i+vjzo1tfeoXYG8LWVztNn4XtNtkol3zSwNLzf0U5y6/vA5/3KMkX5dZ/CQVffwF9Cs60tmbHuYwm2D+rCDY5AhO1/z60a2umJakxa2f6gCL9bg6NGmYym8WIMV3Vs2Seg4Fy3+1GxjycGRnnl3+eC/TCP55Wmhfradq/HPhQTebIH4oVLhwhBAC5+sH9J3jm0qd3lgpSFnFmmtcCritLDUSuDENTA+AQ2afX2eMmXk4QjBnlHnuV57Xwi+DKUvAEldpv2Fw19oV2+Safszkm2POTObuvaRbs+eY+eZOLLyVLPPBjV55K/TSZw3iaLnvHW5dcOejBs37wZkiD8GzMHIf7pp7LDVrtmcOte82KqppPDH9kCBTohVhlvNHTL92Fv8YAWzQeNubpw2Uv8JXj2sOtLmX82/9r3mzdtNjTLVUptnx966sTAyrv4705x7yTRWE3tbb+HhME6PoMeaj1PhXkckAqtwW6GC8GaCaIUee2KcCnNZc5cfgY51MkLSSscl0+WFq6zidTVabU2jlOoDAH4SkoNjc6LdkdvpnE11JwRHipbhxdtMN+3Om23QVlcWGxzF7N3w7EYZvCOQv+1iJJ2ehPRc84T7TEPo/lGI+saXwgMSVD9jktPxSAmO8hrbib8c/Xb1H2Vk1uVMgZaiJ5yaoDhEynk+tLe7NRV6Tjz1STQR0N6aDFZQ0Nz9lvtx2rs9mpRBO4O4xSNdXXGtmWz1NyIca/Bpe3ixhhZ5eNSA5U55AjseaoiZqa+E4IiVuOn2U9Zx4OY6jtqnemqq8+y4x6xIB5fagG2aFPUNAtVr8t3YT54yyTKRUyiplcARNnALVv5otRpl6O63/DmwadHWB1w4FZC6AJgkdJmOFK5dvUm27U9PuHDsfjHG/NdiItJr4Q3WAQjmd9R9fev7IY+wF9AyA29fvmRLxqXL9s95eUkM+hf7hWpqS+7xtz2MlDN/I6qCg1hozn3dQSozL6RxG4UebzFJuf/8K6yLMtD8R2s1lKdaxQuWtumZQW/kLyvuydSsI8pq655wYxotwlx78pbHhZyvbH5ppKa+9ZXYwNYUsHUgMvwg4SmEaMGN+Sr8LyLSsU5GSFrpuGS4vAAAvzJJwZGWeuOwfQpvc9PJh6qxKs+Nhi5tCI6KOg4Ck0vgO2LezCIt9b7G6vJKS5w5Yw9c1IAt/WUSHCV9OZp1eTYiuP3H1XusVkb+scuV1Hp4dOiz/jk/knIxyhP9X0ZzT5Jj7uRiT4yjKOs95ewHyVeXqDUlxpoa/22aCojG7M2WDl4hCXm1rD0xldoqfPFhRQ7/9aSMOSY6AwfjywVthH91J9ngUvfcsJ+84uJ7gicDoFVfYlJKeDlAeiVYiBuY+SX+W/+kqBs9x4+tMTUGmx99xpvtXsoCYJHSZdpZuHb1Jhm3Pz0jKoaZ0LBiRx2lnou6bk4XDqzS23AgZYDRc/7vBqz07uKezDSdxW0ArOKZ0SBKfz1PoS0ItRk/rxOr8tk0mKK2xl14/ahzX6Us33+zP2eB0aOOjaEojVxm5uj7KatKdBNR90hXmWDLQf9kNhbpZ/SCsBmxCuclyiSuTelQJyMitXSdobq6OohYTEwM530AgJ8QcXCkZ9w+fFXwBgmdfY4jPcHGlHtxjKD2RB38kcA+gUtmwVHSl1Pf7Bgkr6C5xOzyVQFXrI+Z7LYNFol2wljRARlKVLz6zCDHkzuMNm7fb25je2TRIAWltZ7s5dOG6rYrOLZgtfF3t00fQJHrwSSHDJyx3SFaUk1oISaD5ZFprab/wEocdBTleul7s8f1SAYXRprNVERezdhPwt6SfDYjbGBqxOHRlN7LXPBchFU9O3YyWDjDES8AnCyCY+vCtas3ybb9uWq99NWYqTNN5I92NqzMZamKfJ+1j7mRnqnhhVE/RMuMNziLFd9ZpCyvpvdUoIl5WH9AVb7PGg/hm17hZ20w03UU948wcjw2ju7J7uMUtQkGt+IFGqbq/lLlYQfCxfQcNOvKbKTnorsS8nS163LlYfu5R70lancnI0CidJ0gPT1dl9jx48c57wMA/IQIg2PdM+Npi3fuF7DPeM4gBQXN+VuZ/z98PVTaCTuSiQmOLfTa6noxobTdwVFObaPo0dT2BkestrCQe7sDqV/OOsCkQBE9j54MPDoMF7N3wmo+XV42dNCMQ95f2M1AjzMfRxEOjuSq277giMOaSlLeed05f1h/+kBmjtNxIL49HTXEREOeMuGUaBOgudfmInKqel7sREY2OKYz3yantsFHpHqC2pDNxDUwDg+oSnOuZqItWNH9QzYx/LdJWQC4DnQZnPjCtas3ybb9OZh/VBMhGX9wGLWusqKcjIrK2mbC36PUgM395ZF5gr9YaR8OjkAGbn3FO6+Adb6lnOJ/t4vFbZWo/vgfuJ4n9BVo5uVZiPzAzX5CVzs3F8X6OF823zJ/iJIcMs48lteATZ7rVP8UOmrMgVU+WKkqeY5ErNRRR2X8SckXf3W0k4lHonQ8MlpeAIBfHGFwxBorCguEZHttGayAzLT+lF9QUPi9vmPDDuKCI4F2RZ0Gn40DRA9uMrU3ONJCbWxY85GxSP1yrMx5qYq8+pYA/ulyJBHlmtrXO4cg/Va68u/3Qo89ocXepaCliQltqK7Y1jwrWiF6osVE/qUbtEirIx6CY8Foqe/WET1nXuI8bA0rvP1fTwUNE9GBEda5eZS2Hypt8NukLi95sFtqJXCSg2MLmndroTIyyTKx+Zv9IbsMfheXtgDwE+EkdZn2F65dvUnG7Y+jJ1pOQtTWPyP1ZpbG96cXzZqhTcaMmf8eeCnSeXmq7i9VUhAaicXLzT7BES2K+PCN8x6iFbv24UoledHGYHy5OEMRGWcahbcrrTjayyM0n/9x/GaMPVc+5B0dp4XuG9p73ZPWc+o0vdr2Bz9PY9WfwhJFz4RgbR9U5l6TeJoKiU7Geoq4k4lHonRcslpeAIBfnOSLY4SwJgVUaL33pn/PSM6VOKuaOJ0dHFvqQ3YPRwZseCl4RSJz2+ht0IdccKSFHRhG4Z0MT3111uYj50PSvxyreL7hT2TkgTDhfT011sbUTWJ9CXINNXjXn/KKi+4KTKPR5L9ZXR7fpdDCrE63obpiWhPNvDQTUVp6X+CC0Sr3Nb3l+MExdP8kPeHjfLSIQ2OmnuE8EAMrdV8zgHXFrdAgC5p3c4Ey7+IKsYURr+H9/pGU3kuchAeUGJ/tzz7mHK2VWgmclODYgpW7r1GjDDe5bnXEqYDfz6UugEBWNyHuMh0qXLt6k4zbnwktuLlAUUnHUeyYXqdq8tkgfIQczbWfr4TMupSJtqCF9yxuZjHb7t0eTWT00Y8iY3pYRaj9vY814QeGiwyVYlX+24b21NobhB84wcpclqnKKc27LhDtqG9Nhk8X/NK86/NU8O8UxhDK0/S062Z3uc3LQw020fyD2zGISO9krKeIO5lYZErXRRi5wb5xteJ6T/t2IQCAH6UNwbH59fY/5JEZF78KbnjosebjETlkkgXnMVn4bCQ9kDlXpW/GWCMdFOG9LmtqDIqijqPgcW7WWIrQxTblr3Zr9ZtzIYV/nKc+/uqSwYh8f2Nfoh/dfFj5w1V9kRm2+AWojBQ7q8fcH9ikvrzkxdbR6vMuCPy6b0y5YXIqmDOLHoHmV1vVKa2Ph+EDVpSxRyK50QEtemajP6uv0sLbxWjDS0sb5lNkqyumNVuamPs1xclneLcEa0p13Dt3FAX5xy4HXzqswRbVKaei+aMtWPG9FdNMoziPxELzPNYP19R1yeHvest8t43WWOqQwdvT4YVR/J+TxBM/cVhl0IEJvUdufl7E+3P07EdHzwTxGlRaJXAEDSygPmCbhoLiIKMngqdiSF0A+GlyxF2mg4VrV2+Sbfu3tNR66vVBppzt6hMcmbCKpwZ/DN7xmlP7uvjbe/4dpYjf8AbNcTx5G79AhhZn+XffOVcE55huzHp52uT0q2K0hZZoPa3PjAu8IeTmry5rh4/Uc07nLE+s1MVo6ak3Ofx1h5Hnpj/HxF+wYWiRR0YPNPYTju/MNvxkpqU05Wwq6283Jd08ci1O9B145uy98Fah5FaW3slYT0roZOKQKF3XoKdf+3fATOGdBxtvFxIv5Ug+AKCbIBMcsRKfk4Z6uvPG9ldVUemlMfl/a/U323NOS0dzHhiOHjBMzw1/REbd23OGeqv/mzCQ+cdUe/058b9Vevrrjz0VexiHkeayW2/ZVM1eKipqo2av3HQjlk5PubdLb+kUDean+4yYpWtg9qyAmuZswnxqMPOpvsNmLNc3e8b9eHHIufWLVu6z83oT5ON67cwZxxC3Tf3l5RQ1puistZU2Hy813dlo4thFJ5w9HC2OOcSxUhOpL+fMh8woCjmnP3e+keW9p8+fONoc3X/G+5uEIQfqh0uGa/4br66qotp/7DxdPUMLP4FkWp90d+vMERNWnXb1ffXcydbysl92bZztAo0hc9ZvM/fMYr9JWnXFtCb7gy1occDRuX8vNnX2DQrwcLhodT0w2m4eIqegNnb+yiPeBc2hB7R1bW6d2X/C7pFfULDvA9sDxnvuJEodp6LnB1obLF231/rWQ3dHm4P6S9cef/aNs+Ni4O02ldluqn2GTl+6Tn+3s5RMgpaFXTacOW3Z/sv3PT3vX7E4fNojTfAHgORKSGlgPurHo1pDd74WOSQpZQFwSi6my3BIaeEmaYVrY29ik2X7s37pKY4xFb1Mu2ugRa9MF/9vn5OPz4OrlhYOH8rKAvdPnb3X1f38sasR3IPJ1K/uu/5bsu/2y5C3r57cPnfKzPxqQBY3JtGyPPfo6Oy08wrwe3hh92rdnTciywSr2/zZ/fTRM/bu/iHv3rx0u3LcxMTaL1dkA9Hov/nPCQJnPXLQMxxXTFpu4/3UweqojV++mEas9dJXF5uZRHS0k4kjvXRdgZp298BCLWWRUQc23i5EypF8AEB30YYRx58WteJbUuLX0gbmdgmryk5MTs8qKKtupEv+/c+G1hakxqew7t7XXrSq7KS45JxWs3u0A6OuKD0+Jv5LKW8mXXp9dX2rPXl7q0urykn+9DE6tZiVxqgl6QmpX3NLKutpzA82lpez7qmINZZ8jomMTvhWLjWzCKJV56QkZwnf8K796NW5yXFJWRUCFwwIkFAJsogvOCC1ACR0mY4Xrl29STbtz6jOzSxr03KXLdadApNS82q4zY01Fn3NrhTt/c3fv8Z/iknOLBM32zTaUJwen5BRVEcQn6hVeZ/jPsWl5lSKr2djsMlIbXGXmaD1hWkJaUUER1sbArYO/0doLFSSjnay1iSXrgs0JzlYuX26s0RVbHAEAPxsfofgCAAAHUdPOD11ysm2HVLFqrzWj17r/vteSdIUf9PKI5dR4QzBEYBfBARHAAAgBasO3DXD+JmY2WaJMNJtF8yzSZbBAYefU8On62c881F8DnQIjgD8GiA4AgAASVjJs23/OxYmPHsBITTvvsHi09GCp+L+VuoirpzxxqcXguAIwK8DgiMAAJBX99Ha8IBPifQI1Jx6Y9N218w2Hdn+hdSEhp477pZRVc1SlX1DR3XambjKmnoZnewMAPhRIDgCAEBboGXv7C77F0uOjrS0BxfcuRP+/IbQ4tBQp8u2HBcOL9JAhiw1vXjFI45/y3EAwM8IgiMAAIBOxUi2+ltZ+8KXHzQfEABAhiA4AgAA6CxYbbTL6aP6U9V7/aFtdOy0m7SpJwEA3RwERwAAAAAAQAoERwAAAAAAQAoER1lqzg12OHfunLXZoRO33uWLv7cJD0arzom8b3bMLZPgJHu00PvkruMXbjg6XLcxNbuf8tvOBQcAAACA7gGCI1kNqd5eMRKnb2sIszJx+MqafAMt8906esR2/yr2xBPU1OceMdXCk1CguUH3nLzum0yaeKLV3W85GBmXjJZvMVynt+OUU1gBxEYAAAAA/GAQHEmhfXHac9grX+IlgWi+45JhRt41+AOq/2b1YftCOWkPK3tluvXip3r2Iz5Gmo32JAnB0f6Kj5RhSwAAAACALgPBkYTmOOvl27zL2jBvLT35zNRBa9xL+R+pDzu6/EBwjfDfkBYcr5jsuenywP3BbRubR6kkb1YBAAAAANBJIDhKheY5LJ1rndKGCchqo88uWXgksEQoJWJF93T/u5Au9GckB0es7mtKNj7iiBXeXqRl8oY9mAkAAAAA8GNAcJSGGe5maJ9NI5sbsYoPV/Yd90hvxJorKxsEoyNW8WD1VNNowZQoMTg2pb1wCSlgXzhDe7dn6PB9ofj/AQAAAAB+DAiOUqA5dvMnCMc9JrQ88o7FiTMXLlhf9/J1sffPZec7RsGrC+a3PxTX1dfX5D60tk8Vipto5uW52mcEhy5bBUdGSbR/WA4+yojm31y14EI8+yzJKvc1g/67lYf/HwAAAADgx+gmwZGR6Xn2XjyV86g7ofpv1ljmUik4dEjPfGg4bcnVVFa+q3u1XVNxokUiM/th5X47RynK9eCQ663vJXKLhOYXRn+ufcw+VxEr/eB67eK+hZoac00uXHN6X8h6Ei28v2rEPNtU9jtqPzpZX3LxCw17brtl9S63dLhOBgAAAAA/VPcIjvRY83GIxo7XjZzH3Ui163J1wxcCmQ3NurlQbfyJWPZQYPPrHRqau4LIZTrauz0j5tnlEEzbKA7aUJwWG/u5uL4NnwEAAAAA6BzdIjjSok3HUnrID9ri32rCmh8N+37vfwM3vOQHQ0aq9WQlreMx7MPL9Djz8WrrnpC8aoUWfmDMvKvZEAIBAAAA8FPqDsGRFmG2euHsfvLy6htfdrs5Z5qeGaiveMBPhs0vjfqqGb1kj42i2VfnqM63z2eUp6UW489IRA3YPHi5axXnEQAAAADAz6UbBMfm0KMbr6e83PyHvHz/9Zz5s7sPRupZbW0b/kXV9LiTE4eahLAOVGPVESem9dIy+9Sc5Wh9Hz9JUSK04MZCrcMRcAsYAAAAAPycfnxwbAo5ZHwrD20M3P6nvLyanmd3G5CjfTg0aZVbBe/qGOx74LHl660fujucOWHrcnH1lFVWV80vveHcXVCSqid6Y7f4iVwwAwAAAADws/jhwbHx9YFNdwpRZoAM2qWpINd3jTs/o3FhtPqKwqzPCVFRX/DLm5tL0yLfh8dmlAjNk4ijlaeH+ni4PfAMiCloQsvT0ooFzijEMOnprjV6vMWcdQ+/C34Ua64oLK7FT3NEG8ryyxpJ/F2s8rHe5L3vuuH1PwAAAAAApPzo4FgfsHezczGeu5rf7RmqINd7pZtQRmNipNzbvnz2iF7y8hq73uQFXzGzuuUVHP7GYdPEwTPNgvjvbk5z2mVk9iAis6ympuxLqJvFKq1BRtwLotHMO0sH9hq6zqXt16ZgZV6bl9skd+wQMyPDTlfPiTPfIwAAAADAT+gHB8c6H5Mtrtw7OlPDD4xQkOu11FngFs889I9HRiF/LNlh7fKZe4lzrff6fshEiwT2Bc5Y0b1lkw59EIh3tPhTs425wZGeYPW3kpzi5DOsKRfbCiv1PbLNLqmJ87DtaN/u7DB5nAexEQAAAAA/sR8bHGue7dr6qJwXE2mRR0ZT5FQW3SlqnRwZqdZTEMrgHYH8Y72MpNOTkJ5rnrCfoUUeHjVguVOewI1ZqCFmpr78mXSair/l1bQ3uzGKAq87Rbfvom9aqpuNWwocpAYAAADAz+1HBkesynOz/vXk/AKe7Bc7hinIKf93m3OLZgF4cFTUcSjhZ0rGZ5tpiNIy7vw2Nf7bNBUQjdmbLR28QhLyapkJEqVS2zG+yJeamhrfzZSWlnIKBwAAAADQtX5gcMQq3I3nrjbZLWTTvMEKckrzr7c6GRAPjkrL3QSm68GDo+JSl0rOY6w2/u626QMo+F3/5JCBM7Y7RPOHM9tj3bp1s7sZd3d3TuEAAAAAALrWjwuOWJnb5p3PRKdtpCdaTqLIKc65kiWSHEkERxzWVJLyzuvO+cP60wci8mo6DnCjFgAAAAAAmfhhwRErcTY28Wl9ziDrln6IHDLj4leBkxWZpAZHWqTVEQ/BqXzQUt+tI3rOvJTZHZNjc26ww7lz56zNDp249S6ffx4mAAAAAEC39aOCI1pwx2i3n7hbUzPSz01nJsfp59KFkqP04Bi6f5Keh9A83LSIQ2Omnknh/B3694zk3PoOHbomhtYVJIUGvg5Pyq8lkVMbwqxMHL6yTr9Ey3y3jh6x3Z/E/OEAAAAAAD/WjwmOjBL/nVpj9rwVFxxb6AmnJlB6UCaYx1I5z7DQY83HURR1HAWm6sHfqKhzh/0ULXTfUNUpp6L5d2bBiu+tmGYaxf4rzM+PZ+bRSRbxHbpcRhysNOiKmeU198C3/ncP/qs1fZvbZ8kT96D5jkuGGXHurkj136w+bF8o3IgQAAAAAN1dlwdHeqzd2tljB/ZSUVFRVddaaB0meJiW8e3hPt35WuqqzFdV+gyZvmStkW1YIz3l3i69pVM0mM/2GTFL18DsWQE1zdmE+dRg5lN9h81Yrm/2rJAWekBb1+bWmf0n7B75BQX7PrA9YLznTiI3m6I5DwxHDxim5ybzObjrAvbpXUji5FWs9OGqfsra5/k3t5aCnnxm6qA17uKmrgQAAAAA6FZ+3MUxMtdYXs66BSHWWPI5JjI64Vu54IBl52F8uaCNKC2+x7mDDZp9dQ6iyHsoRW302SULjwQKzDEEAAAAANBd/ULB8UfBqj+HfsjijmzS406ORwZuC+QOpKLlkXcsTpy5cMH6upevi70/f8ATq/hwZd9xj/RGrLmysvVdtwEAAAAAuhkIjrJVE2QyQm3WhST2KYv0zIeG05ZcTWWlyLpX2zUVJ1pw7njIKHh1wfz2h+K6+vqa3IfW9qlkD20DAAAAAPwoEBxlCC3yNp44bZ9fEXtUEc26uVBt/IlYdohsfr1DQ3NXECtDYuV+O0cp4vOUs8j11vfiX9IDAAAAANBNQXCUFawq7PRq/UtRvIl1WDNSKmkdj2EPMdLjzMerrXsiOuE5AAAAAMBPA4KjTGC1n67uOvw4E78eB8197BJU39L80qivmtHLRvwNrGtmVOfb5zPK01KL8WcAAAAAAH4yEBxloCH+qv4qU1f/VywBPg+PGJ6MpLEuk5k41CSEdaAaq444Ma2Xltmn5ixH6/uF7E8BAAAAAPxcIDh2FFbiaaChwDthkUlO6X9O5Rjzle+Bx5avt37o7nDmhK3LxdVTVlldNb/0Bm4SAwAAAICfEwTHzoU1VxQW1+KnOaINZflljZAaAQAAAPCzguAIAAAAAABIgeAIAAAAAABIgeAIAAAAAABIgeAIAAAAAABIgeAIAAAAAABIgeAIAAAAAABIgeAIAAAAAABIgeAIAAAAAABIgeAIAAAAAABIgeAIAAAAAABIgeAIAAAAAABIgeAIAAAAAABIgeAIAAAAAABIgeAIAAAAAABIgeAIAAAAAABIgeAIAAAAAABIgeAIAAAAAABIgeAIAAAAAABIgeAIAAAAAABIgeAIAAAAAABIgeAIAAAAAABIgeAIAPhFYbUp7z6VopxHvzAyFaV/DQvLo3EeCCF+BbTXb9P1uEhUWEI/gy7YbrTMoICURs6DrvKbBUdGU3VZQV5Zh1oZba79XphTUodxHndjsqhuF0Crvob7uD98/jG/ifMM6Eq/aPtj1R9sNpv6lfwEK2rHkK1oU8qtrTtdvojZPRO/8kP8JNstYr9N1+MiWWEJ/aybdcGfR53Ppgmbfeo4j7qK5ODIyH7n/e5bDYPzkLmLqc8J9w7+Suc8bI+6d+fXr1k2b/LYUSNHjhozef7KdXoca3WXLtAeP5r1/Lidz7ktgVXFuV9zeJ3dzHncXrTwszpTh/RWkFMYsi+0nd2Tnmi/bsYoNUROTlXfu6MF6lwE1ZVVa8oMo8Dn8DxtgxthsW6GQ9QXO2Zzngdd45dtf0a2m5GuTUL3XktZsIacmLi89kf2tlQUK/fbvcL0fXXr/TvxK11LFpvpH03yEqlLeuaX9mvlozZ0QQn9rLt0wZ9LtZfhxB2BDZxHbPSK1Feu1y9evH7/WUhiUaeMBkgOjs0vDHvLySF9NLWmzpwzW3viMDXlQTq2MTJIt9TwAyMUeiDz7fNFxrabCkKvrh2hMv1cOjuuMj7bTEN6yPVa51mPP+6YWm8DNQrZLRJamppW1nrovfn9vmEK3T444lpVV7at2XFogdNStYEGTyswNPuWTh/lvyzjOK/8nAi6TLf1q7U/D5p7d+W8UzFi1lGsKureuQeJwlvaHwfNvblQVV517eN2blSJKyq+pth3rw2z94XUch4KIH6ly7VpM93diF8iGKOpKi8pyOXkKq1eSoudyn+hdNTGLiihn3VKF2zPNrmbbSSIYRUeepN2hwhkQ3ruc1O9jeZ3fd6FBnpcO6QzpNfgBSdeFfIH/2RDWnA01po4fZS6MoIo9x+hveqQY0RJR0Yb+RjJVn8hPRR17pSKWYPqQ/bO2R1MZT9oTnHds0bP3L9IFvtj2vu9QxCyW6QG74NHuaUQwEi1noz8HMGxdXVl2podhn13XtJTaZlrFf4IpdFk3b27GkGX6a5+ufbnwCqfG4/X8/guZtuC5l6fp6ikc6fbHEVsSHpofe7p5/YdlpVQUcKa0lOsZ2pbxonppcSvdLE2baa7F/FLhPHFbf+GbQfPOD532KipoPgrBcd2dEEJ/awTumA7tsndbiNBBCtzXfXXwXB+7WhJFwz2+AiUm/bt9mI1eZVpVrGyzSvSguOOHc86JSBJDI7MDccRE7fKTlhqtNB9pLdI9HgLnT3ig+OUnyU4tqG6PwIj4/x0pI/Ri5+gKUkh6jLd1a/W/hxojv3CUdtFDt9wVLmv6oVMtfn8S0RkSRUlrimad2OhpoGXmO0r8Stdq7tvt4hJXCJMtPADw3+p4NiuLiihn8m8C7Znm/yzbCSw4rvLJptG8VeTBv+dS05+rBIqd9Pb3UMU5NT0nlRznpCJ7hkcsRKnY+eTO2GxtWGL1Bh+SEtzFwTHzsTIODcd6Wv08hcJLoRdprv6xdqfg5F2dtrgLQFix/Ca3+z4Exlx6MPPF0nEkFRRSTVFc+zm9l/hKmaQiPiVLvXTBkeJS4TlVwuO7eyCEvqZjLtge7bJP8tGAs2/tWjayXj+MWBG8pm/ETlkzLGPAseFsQrnJYo9FEYcipBlfbpRcGQk2Zi5VbAfoiVpafi6RW+sKs7JSPoUkVLCObiK0eorCrM+J0RFfcF/ljSXpkW+D4/NKGkg6mq0qqy4D5FJ+XUo2S0SVvf5waaxSgqDtvlV1bM0NFJ5x3YFg2NTSWrE+zDCL2fUFSSGeLs/9vnwrVpaDEaba8ryv6XGfkzIY66GaE12TPjHjAqhEwPoFRnh/p6Pn4fE5NQQH2qWUF3xrVmUnZ4YHZFczCmh4FOCX08rTw/18XB74BkQU9CElqelFZM63E2vyY0L8n7q//FrBVWwkRjNDQ018VZTkD76TyrxNm4m8UsB/2teHt5vPuXyL2snVwnCBkbpVDq3KhiD918Gjcb+L0rnPidhARB2mQ4WTkBbehOfbNsfayhM+hAanckpAMp8GPEhIb+eaN3rJGhtXiLzewvEfS+adWVO35UP2IffuVBaYwOzjjWRZuOQfgZPypjVbaCSb8SOoTPXyPC3bz+mfxfeljaVpERGpX8X3qlhjQWJUUlF3F0x1licGvn2bWRaWavtsNiKkqopPf7kBHXD52KGiYhfEYt4hWD1cdlupsW2FvOLsK7te23uekJ+WHDEmkozYsLCoj6XiAt5WFPZl5jwiITcauFNDg9BF253F5TQz9rWBSXtEyXuxsX4oRsJ5q6nGf96UYSFRrPtFmifERxfw6oCdo/tN2TF7QzBJyuc/8cMjsMPhndtcHxaFOduc+TQcSubszaX3CKFskT7iQmODf67Nt3nBEcONN/riO4/o3rL91Ba5c6+nIORcm/78tkjesnLa+x6kxd8xczqlldw+BuHTRMHzzQLEv6dglVEXjPW+d8OW4/g8FA/l4vHLZ1ubJUaHNEcH+vdWzbojFGWVx6rs8GYZbPpk0zusuAER6/8d3YSvhwtCTq9ZMaSE09is3NSg+wNtbV3eGRK+FpqhK3e/6YNVpJDZl2KD79x9MTli9v/6v3H2kec15s/P7Iwvej6KubLtwTf82u0/zG5nyxygYu06hK05oo5I3sxn1ruVsN+Ks1p54o5zAbuobjUpRJ/ivntaU67jMweRGSW1dSUfQl1s1ilNUj6Ec6GFFeT5WuOOPp/yvgS9/r+Kf2lm2584lw0R09y2rNp46qpA+QVhsw1ZDbxpl0OcRL7VvPXJ/vmTvrvyP2QuMTo14+vWx608spifYJcJQgbOP+z6541c0eoyvWQQwZNXWUdXIWXsPHdqekDKXJyShrTDW4l0iUuAAldpoOFw19te29ik237t2ClIVeOnrr14l2Q8/Z5Ouc/VSTdP2Hh4PfW4/BMLV2nTM67Ohu9OMRGf7Gh1aPgUL9bZpbufnbrdI69ETifvuahbu+JFgmCdcEqg89v3WRsvHHZxL7yyIgFRqz6brMJLBPaXHQGRmGAhfFWS2f/8KiI14/O7zvknMZOPmiBz1kzO+9X19Zo/Xf9M7ewWNkrG7Nbfh57tP8+8KayIe3hiX0nr7m/ev/GwWjC2M1ewmcmi6ko2Zo2eBuojToSKaYHEb8iSuIWScabaXZrPQu0X6ulw28t5kr68cSk/ovvFHIedrL2dD0RPyI4Nma+tNBfanTC8cW7iPfPbx0/fCNa4Eqspmzf0wbLjU7e9Qt972O3ed6CA89zhSpA2IWZ2t8FJfQz0l1QYg+Uthtv5cdtJFoa0lx3zhikJCfXQxw5ZPq5dM47BaBfbefOPs+5hliCpmATTQV5Nb0n7P2ajEi9OGbC/H2OH8vwhYh+Dzoweeiiqwlkf49KwA6OyNSDT98EBQW9CfB2slo7tu8SZ+HgiKPHHNei8KIOjv7xyCjkjyU7rF0+c8NLrff6fohgH8YqQw5N6jftZBR/JUELPTcOVyQ3zwM1aOcgigbhoeqes9fbuBJ/eX3Uqam9R+0K5J2q0RxtNr7XdJtkCdsUpoaXG/opTl1/+Jx/OcZIv64zeMiqe/gLaNb1JTO2PUzhtkF92MExyJCdr/l1I1tdMa1JC9s/VIEXa3D0aNOxFF6swYruLZskNHJPiz8121hycKRn3l0++C/TSIFtFPWz7VyNfy4k8K4Bww+VCheGAFr4ZP2QvnNsU7nLg5lizizSWuFUxGlhqZXAiWtgfAIaNPv6PGXKyMNCw/l1nuu194Xgy1D6ApDUZdpfOPyFdvUm2bY/8+9l3Dls84EdO9GvF2f0GaO9+eZXRgvt3W5NBQVmy+Hvao2e89bl1g17Mm7cvBuQIW5AhIeR/3TT2GGrXbM5Na95sVVTSeGP7YH8rkiPNR+nwr3eRxhW4bZChbUVlrqxlRFGxtV/Z5pzrzfFamJv6y08HMbsYliR+3GbCGaz097t0VSaczWbnQgZKbamzsweXftIt6eK9tp9lr7cqyHpcebjlKZYpwqUXEJFpdaUHntinAqz83E7FB/xK8LIrBCy2kwTtBZ7vUIGCS59Id2o63F1dXDEKsOt5g6Zfuwt5wsb4m5unDZS/wl7sWHVkTb/av617zVv3m5qlKmW2jw75nrNQdiFWTrQBSX0M5JdkEwPlLBNJkJ2IyGzzoUWehhpLzrs8OJtxMfQqxs2XA39+PFj5EvTDQc8I5j/+xj1Ka1EzIw6jDSbWfMvZ4ofjOTDqp4ZDpTv+fepGNnOyiM5ODK+BQdmCK6VtS82qCtNNP9EsKaSxw6OFC3Di7eZbtqdN9ugra4sNjiK2bvh2Y0yeEcgf2kwkk5PQnquecJ9piF0/yhEfeNL4Uv7qX7GJOd5kBIc5TW2E385+u3qP8rILKGlSk84NUFxyN73Er+Z9pa5E+458dQn0URAe2syWEFBc/db7sdZm1DKoJ1B3OKRrq641ky2+hsRjjX4tD28WEOLPDxqwHKnPIFViRpiZuoroRdgJW66/ZR1HLi5jqP2qZ6a6jy7b5yGIR1cagO2aVLUNwhUr8l3Yz95yiTLRE6hpFYCR9jALVj5o9VqlKG73/LXL1q09QEXTgWkLgAmCV2mI4VrV2+Scfszd0DeBw+95E6xxvr1gfTWfYivrU054b7vMwl/TNIyA29fvmRLxqXL9s95+wEx6F/sF6qpLbnHn8KLkXLmb0R15QOBnUzzSyM19a2vxO0pmgK2DkSGH+yyc5dYB93U1j3h7sloEebak7c8LkSZG/1LB2+y4g/9k5kWMnCTH7v16PHnj94vxphL12Iiosjc1vO3MHhEEj5NSUJFpdYULbgxX+UvKzGnkRO/IozMCiGjzTSvtWgfj45GBm0N4PY1RtrZKUivVY+Iklo36npcXRsc0Zz7uoNUZl7gTRtJj7eYpNx//pUU1uJF8x+t1VCeahUvuB1vembQG+Evf8IujOtAF5TQz0h2QTI9sB3BkexGQkadC81/YLLrUS67rszm3XMfH+Fs9D1wyE9S1GOuSNo69rm87kigIeLYeKUBi+zTOpzYREgOjq1gpY46ivLqxr4dHXRkB0fBQ9VYledGQ5c2BEdFHQeBy87xHTFvZpGWel9jdXmlJc4iKyg1YEt/mQRHSV+OZl2ejQj2aFy9x2pl5B87iYsajw591j/nb2i5GOWJ/i+juSfJMVdo5q8yirLeU05/IF9dotaUGGtq/LdpKiAaszdbOniFJOTVMouBUqmtwhcfVuTwX0/KmGPRIu9hfLmgjfCvVyMbXOqeG/aTV1x8T/AQF1r1JSalhLc+SK8EC3EDM7/Ef+ufFHWj59yLzxqDzY8+4w3vS1kALFK6TDsL167eJOP2Z5ai6GMEfl4AC1Z4a6GS4oKbBdI2WzLFzK6GAykDjJ7zQwZWendxT2amzhIoSN0jXWXxazgzpY1F+hm9kFZbrDL9fYCfr1R+/kHxxZzPiEWPOjaGojRymZmj76esKoES0TMiolh9uTnswAhEc1cQZ4nTM6JimDkEK3bUUeq5+J7AdYNovv18xZ6LhOYHIa6o9JqyTphXFnv6P/ErIkisEDLaTPNa693eocjgXUHc/SneTsyVIKfTu2GHux4P2eDYpj5I8IVYxTOjQZT+ep5CO1VqM/tUZ6zKZ9Ngitoad+Gi1LmvUpbvv9mfsxEj7MK4DnRBCf2MbBck0QPbHhzJbiRkhV6Q8Y17tj4twszo8ldWh6LHWhiclZSc6TEnpi1xLJTci7Dvr0y0/pxnE1Uj+X3t0cbg2NLspaciR9E6HiMhNZDROjgyf2fbmHIvjhHUnqiDPxLo/1wyC46Svpz6ZscgeQXNJWaXrwq4Yn3MZLdtsMQtBis6IEOJilefGeR4cofRxu37zW1sjywapKC01pO9krShuu0Kji1YbfzdbdMHUPCTMOSQgTO2O0RLqgktxGSwPDKt1YQGWImDjqJcL31v9safZHBhpNlMReTVjP0krP7ksxlhA1MjDo+m9F7mgu/nsKpnx04GC2c44gWAk0VwbF24dvUm2ba/qNqnen2Rv8/gwxZdBitzWaoi32ftY4FZJRpeGPVDtMyEhmir7i9VHnZAzIngaNaV2UjPRXcFw5dYzbGOJhuNDKUy2rDN5jXnM+Ixcjw2ju7JXmkoahMMbsULtXTDq+0ayOgjkSIdptZLXw3RPi9wgjtW8WBlL0T7whfBFiesKJmaVrsuVx62n3vIURDxK61JWSFku5luCto1GNE0CeaNw9R5G6gh48ylnJkrAx3uenxkg2Ob+mAZ50PCsOI7i5Tl1fSeCjQ/H6tOqvJ91ngIn/mGn8nE/MUZxa2XxC7ckS4ooZ+1oQtK6YFtDo6kNxKdoDns8OLj+E99rOzeiiW3RY4WCaJFHp280kXgl6UYjUlXF41ffDm2tlOqQhwcsZp3ljpT5x8PFroFUPPz9b3lFDSlHHKVTkxwbKHXVteL+fHY7uAop7ZR9Ghqe4MjVltYyI3tUr+cNWSuQBE9Z5gMPDoMF7MmYjWfLi8bOmjGIe8v7GZgnfNEEQ6O5KrbvuCIw5pKUt553Tl/WH/6QGaO03Egvj0dNcREQ54y4ZRoE6C51+Yicqp6XuxERjY4pjPfJqe2wUekeoLakM3ENTAOD6hKc65moi1Y0f1DNjH8t0lZALgOdBmc+MK1qzfJtv1F4NMzE/68aQWj1lVWlJNRUVnbTDh6RA3Y3F8emSd4qynah4MjkIFbXwkd0mnyXKf6p/DxKhxW+WCl6g+YnK25KNbH+bL5lvlDlOSYMSeWv0SqvQz6I5MsE0WWEXPZaQpPBoJVuq/pg0w5myZUdKKKkqkp68iRyviTYjIX8SvCyKwQMt1M4wfrBcYb2d1w0I43EjYK3aTrCejCQ9XNPhvU5BT/u10s9quo/nidrucJ1RrNvDwLkR+4mXPuBAdhF+5AF5TQz0h2QTI9UMI2Way2bCRk1Ll46vy3Td7O7lC0yMPjFjsSh9fm0P1/rX0oqQ8xcj2M5693+izUP2WJODji0U6ul46DUNdi/hhQ6iEyQt8e4oIjgXZFnQafjQNED24ytTc40kJtbEI464fUL8fKnJk/UNW3BLR5qRHlmtrXO4cg/Va68q+qpMee0GKvJGhpYkIbqiu2Nc+KVoieaDGRf+kGLdLqiIfgWDBa6rt1RM+ZlzgPW8MKb//XU0HDRPSXHuvcPErbD5U2+G1Slxdzf0oBUiuBkxwcW9C8WwuVWfvy5m/2h+wEhnykLQD8pB9JXab9hWtXb5Jx+wvBT+7qo/eUdxJ6c1poJPGlh43vTy+aNUObjBkz/z3wUqQL81TdX6qkIBRX8dKzzzJDiyI+fGM/SwvdN7T3uietzqVperXtD4Q3joFVfwpLFB5Pli1acbSXR2g+v7T43R17rnzIPdqJlbmu6KM44yJrFJGREx7O3czSEy0nsY6V8SuAfXdb2UeRfbo+mhsezjk/gaiiZGrK2mCpzL0m5kwH4leESN0ischyM41/sNfax7y/xUixnoz0Wu1OdIIjU9d1PfbqRLhE+LowOOKlJtzX1T5cqSQvuoFgfLk4QxEZZxrFji/SunBHuqCEfkauC5LqgRK2yWK1YSMhq87FgZW66Wqu5pyu2/x8vdpUG+HfiQKagk0mGXgSXySNlQebrdn5OFtgydf7nrvS9oEsCSQcqq57eWCHa75wM1PDDgyn9Jx1SeCYCf17RnJum+dx6+zg2FIfsns4MmDDS6FrrFoavQ36kAuOtLADwyi8E3+pr87afOR8SPqXYxXPN/yJjDwQJryvp8bamLpJrC9BrqEG7/pTXnHRXYG9c5P/ZnV5fCWhhVmdbkN1xbQmmnlpJqK09L7AJrjKfU1vOV6FaKH7J+kJH9OgRRwaM/UM54EYWKn7mgHIX6eThDormndzgXKvhTe4l0WSDi4N7/ePpPRe4iT865nx2f7sY84mWGolcFKCI3OVc1+jRhluct3qiJPAGXxSF0Agq5sQd5kOFa5dvUnG7Y/Vfg16/i6bVQI0x+4fRWTmJe4FNli551GLd52ZwdiafDaoMSMvf2uK5trPV0JmXcpEW9DCexY3szhP512fp4I/K4TBymNq65+xq0pPu252l3dxruxhZS7LVOWU5l0X2PtR35oMn84rP1Z8d5GK0rxrrBP0aFFnzXj9uODmAsWei+7ylyxW6rxUVWn2FVaN6LHnj7tzdkEEFSVVU2qwieYf3J4qhPgVQSS2SEyy3EzjA45jTHkn7bLPs5WecGVBetdjF4JoiQjowuDIOlSBjD4qOBc0C1YRan/vYxOrIPyIhMOq/LcN7am1Nwi/3kd6F+5QF5TQz0h1QXI9UMI2WZyu3UgIYmRcnNF7vj3n12P9I92eakYvCDaqDa+2T9wocLqtiIb46zsOeuYILXZauNkeV97QT/simzBJ5zg2x57fYvFe4KoxNN9Vd6Dq5BMR/NWcHms+HpFDJllwHpOFz0bSAxGYWoEQ6yc4RXivy5oGgKKo4yiw38THUoQutil/tVur35wLKfyR6/r4q0sGI/L9jX2l7+ew8oer+iIzbPH9IyPFzuox9ycDqS8vebF1tPq8CwK/VxpTbpicEj7u30rzq63qlNZj//iAFWXskUhudECLntnoz+qrtPB2Mdrw0tKG+RTZ6oppTXymJ8XJ/HPWmlId984dReGdd876Yak65VS0wCBI8b0V00yjOI/EQvM81g/X1HXJ4W9myny3jdZY6pDBW3Xxwij+j8RmFKsMOjCh98jNz4t4f46e/ejomSBeg0qrBI6ggQXUB2zTUFAcZPREoN9LXwD4KUHEXaaDhWtXb5Jl+zM35RrylNFHmdVkbhTWa4/pxT0Chn0PtDJ/yr3KsjNhFU8N/hi84zWnDerib+/5d5QiftsbNMfx5G3eMRBa5JHRA41FL0lkXb+sNOUsPp9NU9LNI9fiRN4gU1ipi9HSU29y+CsjI89Nf46JP6+lWSeTMcvD3AljxU/Nz4Vx161aT70+wsfK6PEnxytNtEikM/flLyzOveelfPEVJVNT1g6/98JbYs6tJ35FCJktErMkMtxMs7Kasuaed+yVA6sMOTBeEZkgeNuMztPBrieoKXDbIHmka/IuLc7y775zrnB/4bE0Zr08bXL6FevWDbRE62l9ZlzgHVZp/uqydvhIPed0Tumld2GmdndBCf2MXBck1wMlbZPF6NqNhICGt3uG95xpi18Yw0T129SPMnRfqNjdVJ3Ppklb/XlbAWH0LLd1Y8bMW6snaPWyf8b+fYg7IMGLbPHsx+0j+eIYaqbHQb3Np91eR8VF+t49uXrSWB2LN/zLmJjQnAeGowcM03PjPJau7u05Q73V/00YqKqiotrrz4n/rdLTX3/sqdg1iZHmsltv2VTNXioqaqNmr9x0I5ZOT7m3S2/pFA3mp/uMmKVrYPasgJrmbMJ8ajDzqb7DZizXN3vG/XhxyLn1i1bus/N6E+Tjeu3MGccQt0395eUUNaborLWVNsMoNd3ZaOLYRSecPRwtjjnEsbbspL6cMxstoyjknP7c+UaW954+f+Joc3T/Ge9vxHmlhfrhkuGa/8arq6qo9h87T1fP0MJPYHtbn3R368wRE1addvV99dzJ1vKyX3ZtnO0CjSFz1m8z9+SMtUirrpjWZH+wBS0OODr378Wmzr5BAR4OF62uB0bbzUPkFNTGzl95xLugOfSAtq7NrTP7T9g98gsK9n1ge8B4z51Egr7LR88PtDZYum6v9a2H7o42B/WXrj3+7BtnVWTg7TaV2W6qfYZOX7pOf7cz/5esWGhZ2GXDmdOW7b9839Pz/hWLw6c90gT2LFIqIaWB+agfj2oN3fla5PCLlAXAKbmYLsMhpYWbpBWujb2JTWbtz/jmtHrSv2bufh6Xzay8sso/WC9dtPeer4/bpePm92I74Zo9sdCiV6aL/7fPycfnwVVLC4cPZWWB+6fO3uvqfv7Y1QiBH+CN/pv/nCB4MiGOnuG4YtJyG++nDlZHbfzyJfe1jmv+7H766Bl7d/+Qd29eul05bmJi7ZcruMVpirWZM2Xj7WdO1ma3InlNyPpBrSRyzUVz3Lm5k41uejufNbP/IDjuL76iJGpa66WvPvMidzcliPgVEVJWCHJbSvbXSNlu4e9hRoDaSBudSYtOeAT6P7puY20yvx/rRxY/1nSqjnU9ZuGrg84a6uuvXaI9TI25xvUaNGGhrp6+wR4XMifTtR/1q/uu/5bsu/0y5O2rJ7fPnTIzvxqQxctCtCzPPTo6O+28AvweXti9WnfnjcgyweJI7cJM7e2CEvoZ2S5Iap8oaZssRhdvJLia/TcPUJ1/nTeIhhXd+1+vnnOviRtVq/YynGTCnYdBBOPLlTnKYmcRZ/58454yyYtsuezH7SM5OLJQS+N9na9duubyIiy1tIsCuGxRK74lJX4tbWAuBawqOzE5PaugrLqRTmZ3h9YWpMansO6C1V60quykuOScVjMZtAOjrig9Pib+S2kjbzdTX13faiPV3urSqnKSP32MTi1mdUpqSXpC6tfcksp6GvODjeXlrDuFYY0ln2MioxO+lUvNLIJo1TkpyVnCN7xrP3p1bnJcUlaF+F2GhEqQRXwGNakFIKHLdLxw7epNsmn/ptL0uPgvvCXPqM1NSc6WRbduE9a90ZJS82q4jY41Fn3NrhRZBI3BJiO1xZzgjtYXpiWkFXXd/RGpVXmf4z7FpeZUil1hWGtqSn6tUE9hVOdklrZ6N435zmR8GiwhRBWVUtOGgK3D/xEaieIifkUsklskcshst6jl3xLi0gpqm2LNx7GmfxQ+wt25OtT1fqDm71/jP8UkZ5bxFpIgtKE4PT4ho6iOoMhSunA7u6CEfta2LkiuB7ZlN97lGwkWaum3rErBNsRqi4vFFRercF/31773XfR7SQLpwREAAH4m9ITTU6d0zWHMH6s9FcWqvNaPXss9U1IQ8Ss/GFr85v+3d+dhMe1/HMCb5UxFSLZLtp9LLq41y73WO1lCWSpLqZC4JC6RnSyVIleSdkRXRSlblqdSpLR5SiXq0UJP+9P2VPM088ycx29mmmbOrOcMQ+Hz+kdzqs93zsw33/ec8z3f42S7zSe947hFS5zdCPXRDs87f/yU8tN0vQ6fscMK+lmX7YJdA1oRYDSB0A1BvzYIjgCAHwxad3fTVIswGavC/mCU31F2jvPcWU6ZMsYe+d/pZOysoxMQqu766PaTwq2pR/X7THCIk3t5QKf6abpeB6V3WEE/67JdsGtAP3obTt77pWtoqwQERwDADwctC1u/YFfctzyX2TmU21FOkb/Z/ENJMqZIyf9Op0PLg22t/firi6ANGd5rZy08cE90kVyX89N0vQ5K7bCCftaFu2CXwCn+l64vte5r54DgCAD4ETU+O7raLqKM4Gyp7xjhHWVknVu3IeCtjJFH/ne6BLT6RaDLSVc3N1cXj9AMxUtTdAU/TdfrQHSHFfSzLt4FOx+nwH3udPmrO35bEBwBAD8mTsVjd9co3uIjPzhCO8rMDjp5tWO1FTHyvwM+00/T9ToQ2WEF/Qy6IK7WR4e2BH2LdZyIgOAIAAAAAAAIgeAIAAAAAAAIgeAIAAAAAAAIgeAIAAAAAAAIgeAIAAAAAAAI6SLBkf025NilVKVuZAdA18RurasoKaqA5cgAAAD8eLpGcGTxbj06cOM9GGslsKqz7gScPXXqrH/Yw/QPhBcraCvLuB9y0c3FIyA8Pl/8XrjtCNTFrYGBlt0+cOxOreTyagpbQasjDuwKTC2qbmIwWWxxHOnmGjPCbmfLvqPAZ75IXwMz/hh90uAeFBJl8NbY7+j+B5y6nHuBHs6n3Hwi0ioIfn5j1+Q8DvXzcHY5FxD2JK9OcnkxdsHj0Mf59aLNnKbC+NCYN+LrtCkugl9DFa0AAABQQpcIjsyk3aOoauQBVlFNgi2Am4feh+82MXf0jngcezf4jD19sNaguXvvlOKNeq1ZvtvW2XtEJr8pLs59Hn7KfI7BjogSzG8RqItbQwxaEb5WV2O2RzE27uG2wkzcOYKiJhNZe+W1Gn4KRdmttUUZD/z2Getpqc/3qZJa+fczX6SvqiHUTJv6/QRHVnGk/by5tpdTKxnM2uywXQYz1195gxMemW9D9qzf5nzjWd6H8pLM20fnD+w9foP4bzFuru5BIiE9dfUmTftjhv7YodqaA+jOyZjbS+AXwa+hilYAAAAooSsER2aCw7J5M3qTyX3Nb/0892nCwcw4abYlokyUlJj5nvO1yd0mH05RdGv/5jgHk0MvsEdu0Zo7Nr/Tz70VpDoCdXFriEGro7aM1iIhYsGRQCu1gcZDfjcwXmlqtmo1hhldT9fgfD7/iBE7L3Db2vXbj3iFXzDXpdCkg+NnvkhfGfPJ34OR7yU4snLdZveb6ZYvjNroB1/D/pMPJis4+s/Oc1uy5ERSteh3KgKX9iSrTzqaITrSx7hpoTd2yoi+mgiiqTNc39jeK6EMexyQSBG8GqppBQAAgBK6QHBkxP5jfvbVLcv+ZLLOqtB6wdafXHOUzcJ9z2rFjpy1Pto8mELSNrleJ9ggrTXKeuLWJxKJhfXsn9HzBLGOQF3cGlho7YMje07u0EfEgiOBVlgpR7f7fJQIgp847wOsrf0LJZthxtsNkxEcFTYjeNwJmLFbv5vg2HDLvJ8G3Uvsjaj/z0S7l1FQpeSbI1QXYKiuRtJeGyGcFsDOODQOUUNmnH4nfOsYNzduDFMQ34kUwauhmlYAAAAoofODY+tDe4vzRZyWuxt+IZO1TUJqBdt/auzMI+MREjJy1zPMcRG02nchTY0y3D5BXiRBq3wWdJ9wMFV8JGUm2I+e354NcOryH+HVwGp4fGzPtaLcU1PFgiOBVrihz/lshljk4/7e24uWNsEl0gO67OCouBnB407wHQXH5ghzHapkh2JnO01Cui8Nap8tIAPnffhuszUHo0uF7xQzYcf/KCRNQ3/RO4QX6YgU+fLgSOipAgAAIK7Tg2PLPbt1F3n/rbc+2KRLIfVafrVa6j90lNlUXfruddrz53n8wYxRnp34JD4lt6xZ6keZVTmxEcGBQSHRySWtnKrsbOzNM1H0S8YKlFGRk/Q8s6RRIu58DWht9OZRvQcv8czFNMbNRAu4mWjY9ni5kYT1wkGPiugaHLlf3PEzaE2E1XjjgPaRE6cu/yFeDZGmp8d3Xy7icN5IBEcirUhj5Z4z3xyKOe8sIjs4Km5G8FgRVnVufFTItfCHyYX14rumRI8TYNa+e/k0MaO4kaN0cGRV5mQWS54ZRmVcIKRyrNR9Y6iI/sk8sS6NVnob0Ci6Wx4T3YFP/B5A1ll+pVz08uCHPgkyinx5cJQi66kCAAAgrrODY1P035a+7QeyGI+3DKGQeiwNlDxHxn51acPiGcO1yOSBm+4XxZx2OHz+Rkz8/Qvrxg6a5vBA9NOMbJ9NaxyCEt5W1NdX5MUGHjDWG7DmpmBU4by9uKif1pCVfgWfMSC3vY8+YmXpeOlOXIy/3QK63c0isZH2G2mNsdWlkLVNrktdvizCKb1mOohKIlG0J230SatjVyU4W1qciJN/2pFLVLf9McEazc9P7fLnvZpSwVEmyVYksHLcTTaFynmeck5VyyJsRvBYHsbrKwd2nwq4k5yXnxZ5Yrn+n7b+mcJLs4j2OB60OvGMBX3BRufgmPjY236n9hz0OWetRHDkvPOY00N7bURH+mEU3DnrsPL3noi28eUK/P39IoxIc20SMvOMxJ3zGy8vVSepLwkkOG0ELQs3H9J9lFWo2LFiXqT778PLq0477fccdjrm5BKY+FHBtEKZRfBrqKIVAAAASujk4NgYYWsV0PHZvy3ebjiFpLXIV9bBANaznSOQ/gs3HvV73THENoSu6o2MPZDWPlCgHy4ZjrN/ihmtman7Z1h0BEdW2uHx6iTahCPpCsYVmZpTXf7SM/TMFVyHyYjdOqz3En+ps7btWIWP/M6f8yDi3L/e0bnEFyBCa8NW9yNrjN+fjLPgDONd2I4ZfakkNRKtr+548xDJ44QSZNbFr9Ga4vqP9xt+fiYSHHGePfoxyMzQFXvkUAzh4Ej0ReK8O7tw6vrLrzqiYlPc9pHIYJt72GuzcHscF1rz0H5c78n7not+kVMaYj6MRng5HrTM20CDNuccP8m0FUY6H/R8UloevXPOTEv/PHldVVW9rPGKkboabe6/peKva8u15epqyKyzRQp7DlqfFeXrcXzP+gWzjByvZ0p+mmHctBgze6vXswr+y8CpfGA3YYiBW1oz/5tCiovg11BFKwAAAJTQucGxPmyT9RVRGmAm7vyVSupmcPGD9P/s7KyjExHqoI13RYMgf5q7xvLr7VuYiTtG9Fnsgz0W2PbQYXdkx6DPzTof84skTkniQusfbh2lTfcUHZPhFHvMonU3vir7ChXm27ueri7ORLi4eoQLkwuu5oRdv6n3MfDIFu2PHGhj9nXHtaYm9P9pcoMfudc464DX8vOp7Lp4NRjp7js9cwS5hkBwxHn2zJf7J/91VuK4FwbR4Ej4RWI+sh1EoehuftQR7piPt+hSB9g8wKzSgtvjuO3FbhuB9DW/1SB43K7ttgXx5XiawldrI785vmShtUkX95+KLibyuUZVvazGbxFNjfbXBYlPQYyQlRokZLqrzKvoRdgNZe8LC/LSHwXsXjKDvtkntQ5bhp0fczcX+z403FzbV32s4wvx90ZhEfwaqmgFAACAEjozOKK1IZamZzOLS4QKbm4cSiFp/uUpfSaJP4zT6Bcwc+DYr50mI+qGAYJzn/VR63UpyMAZlgcv3HiYVtTATZCctjZljy+KY2ef0NccuD4aM/Ky0g6MpSIzzyg+HKNaaOUdW71fZjk9r8cb79jFYbZzFp9M4v4gN/xdtZvRj0oikXXmuKTKyo6y6+LWYGad2+HxSpiL8IIj7rOvC1v9y6RjWfJP/xMKjsRfJC52VXrUraSPwiZZKXtHUzVN/sPkDfwe1xRp0ZesvtBX4mm1RVvpEA2OvD2j6ix3vnr22Omw1xIHyr66hstL1dWQOZJHHJuDl3E3/+kuP8lLQOvubBhM7TH18HMFH4TQci86jdzXIlLOXhIpgldDNa0AAACQrxODI1p91WLmMtvNYtbNGkQhqc+WPvrEH8bVF2PnXfGHcdoivxrBY7Qh1Xv9lD5UEm8RaRLSb+qGC0m4JzcVYiXv0UMGWN/BhC60JnCJJqnb8mvfbtxpyXAz+G2+a0oD7r6wX7vOGm19G3M5LLviqavxMBpJc6a71PEj2XVxa7ByPXe4pWESluLgiPvs0cogo149zUJlJVsBAsGR+Isk1PT2gde+jWvMN2xzdHLeaTCAor4iRDI4Kupx/EdkHcsoicWklQiO/BIaI2YvN1tnY71mjc2e09dflBM6UqkSjJtresqY41gftERdTd3QX4kFDphx27gf+TRmuIpfZyOGccOkG4mqtydZ8FgKgSLCGnI/EKqiFQAAAHJ1XnBEKwItbcIk59+z0g+Oo5Jof0itskYgOPKhrWWvHt+4eGKH6ZR+CFmbfuFzLoYR4DfQY8U17JNsibLqR6ZJjbVCaFtjTXUVEdU1DQz858Z+H2wxe5XPa5yJjXzcfDVirGOK5JjKenOO3ktj/iWxizrk1cWt0RhmMXm+zTaMrRZ/DKBQdGdbc7/ecTYWu4oLkWdfH2LSC/ltX6qCY8N4wVGZF4kPrX/hajhkwFT70Lz2DwCsl46jqZ8THEna5pjZEHzEgyNa7j1fg9YxmZBT9+qy9ehuA5b64vZZFfUy3gcjKnXsAfF5v5xC9z8RyiBb4Xl8CW1FT/w8/BPLsWXR0n/n0tRINPpF3gRltP7xQfqk2XtixM4IM8JX9SBRdP9+wnuAWwSnBve5qaIVAAAASuq04IiW+VrYRkjfKIY7XE9ASMjUU+0XXgjhDuPMxMM7g7FL+XDKI62Ha0xzwZmpJV/7dQviGZF30S5Ve2mgnGtjPrU8OWQwfao+EVOnzbG7pfBy509oVYzDcptrBZgRvCny+GnRxRniGi4v7SmRD9s1BC/TnndeNHNUXl3uv7g10JbqUsHMAoGCG1aDKMi0oy+KS0pKK5uE75uCVjB4swspyHRXResxKwyOcpoRfClTwz2bwUjvpQEfhG2yUvbqtQdHTnl6+zPE/6jSHGHeh0yTerWIB8emm2t6I2MwmZk3gRbhRhr+5dSMV0+TZc/FU1kvawpbpU3pv/G+2DFTFu8OoN0W+sq5prv5hmkPkhr113+wy2dyn/hsRE2NRvfindlnZx7+HSFp0S+IzeeoC1isrsZ7p7lf4xfBqcHdqIpWAAAAKKmzgiOn5OKazbdlne5l5xyfwk2OU47niCVH/OAYu22cSbDYBZPMBPuRk468EtRhVeZmvm9SYqzgXbdAHY69UJtT4re4d69Zrln4mUAFmlPPbtweUiiWEpnxDlsCRPGYu08ZhY0dD1nP/hn16/Z4qdvwoh89DcbvFR5FlF+X+wXBGli8dQspUqeqFbYigpb+OweRcYGGGAXBUW4zgq9laYvZ9AuZZuCNSUatUZZ9yfzgyIw7fIi/CT84fmp6uHkY0metxI0yW0LNehIKjsyn24cjv9g8EB2xZKXuH4P0tojkHTplPHJyeiRxMFPl6sJW91UXv34aLb1A19Ra6COKVeK9jPnQdtjA8cuOx2PnknL7wBAKCZkomKnaeMtuY0CxeCdqi7MbRtWY7sI/Q0ygCG4NlbQCAABAOZ0THNllUTZ6I7c8kjlPkJW2fwxVjTrGMQU7JLBSHEdTaXQvzOkl/g8KzzjxxoPuE/cniSbFox8vLZm8+3l7Fe7v/8bNo+MOKDolKoY3F4qqNcjIs+PEIfPNpaVDR1uHFn+LAYf1LnDlyJGzVphgLTP8c9R4e+H636yUfbx9GntA8PgT++2F+cNmnxRfjQStvLf1L4sQQTDDrUughgTGvQ39ybxjxKL0QeTZt2t/t2kLfKXXfRdpvbt+AFl6Lp7CZgQ/Igs769hEhDpqZ2LHqW3OhzAn0+m91Od5fuQ03zroxN+I2+O40Ko7m/V6/3HylSjgNaW6LRyEkHUsIhVM2uTjf0TqsTwYc30+O++kvsbvhzLYn9Dq8P3HE752buQGrYwT03WmOmUJ/9bY+W4ze47ZlSB8/4W9LFWwgZnpYrrhyjvMXydaE2mlS0FG2ER3vIuMlBNWB55gZi1wigOM+nWfsDdBELIJFMGtoZJWAAAAKOWbB0dWivuKGaP6aXXr1q17X715R+OwYyM7//JWo9l6fbtzv9ut5+ApC1escY5rYb26tMlk0cSB3K09h083MnMIK2nL9rXlbhrE3dRr6NTFpg5hpcxYO30jp/NHtu11v3L7QUxkkLOdxZaL6R3ZlFMYtPrXPkNNAuVNTpQkuPGaV4z3fie/iOgb53auNLQ6k1BJ8Ne/DDvv9B+a/It8JGHPsHHeX14zss8wkyDBYy60LumMyaRJy/f7RMS9TE+K+c/9byNDW/8sQQwgVBenhghaFrFvtYnRrFE63PdBa+CEBStMLT1esAg++3b8+9SQNI2vYA7sdUDrHhxbbWq6YqH+UO3u3bprDRgzz8jE1GyL32t+dFfcDL+CPE0Z3tbTho8xPhQQeSfcx/mg6+2ChpfOcwcO/mPVeseQd8R6XHtPYH98eHyVwdKt7jfuP4gIOHPkiNfDwHU6ZBJt4ET6CudE/s/I1nx9ZXexI3tcnNLr5hMXHQm5cnz70ahvMwePVRi6ZcZ0K9/kcgajKiN488wpFoFvMFFL2MveCzZwN5U/clptZHXQ53ZCWmbyPS9b/X79p/4dko/9W257G7zdxPJQ4L3nLxMjvfctGzeKfuC+6DJ2QkVwa6ikFQAAAErovItjVK6lqop3Qzi0pex1cmJSWn4VZvBTHvrRi65B+9O9kBsP2PUFmZnvqr+o3rfErn3zNPKql7v7xet3kwqUXbqynSpqEMIufeJz7gbxBS1Vh934ISc1OTWvvKUjoLGa6pqIHpCW0Fadn5H+pryZ+0KhtQXpmTnvSirqWlgKox+jLL+wVuqV5XXg9NdlhC/0UQVWTfbdQA/X0+eDbr8sIzgPg1mZHRtx2dPV2f1S6NMC4ZlsrLby1EjfMy5n/G7GZZXL3CH8Ivg1VNEKAAAAgn6g4KhavMsGkNGOLz8zRwAAAAAA/HAgOMrGjNs2BBmw4R6c0QIAAAAAEIDgKBM7+9hERMv4ihJLIAMAAAAA/OAgOMrUFmM7bOjqaxIXcgAAAAAA/MwgOAIAAAAAAEIgOAIAAAAAAEIgOAIAAAAAAEIgOAIAAAAAAEIgOAIAAAAAAEIgOAIAAAAAAEIgOAIAAAAAAEIgOAIAAAAAAEIgOAIAAAAAAEIgOAIAAAAAAAI+ffo/0uHsOFIowI8AAAAASUVORK5CYII=)"
      ],
      "metadata": {
        "id": "xCH8f5tbn1CO"
      }
    },
    {
      "cell_type": "code",
      "source": [
        "from sympy import *\n",
        "\n",
        "r,t,a = symbols('r,t,a')\n",
        "\n",
        "r = a*(1-cos(t))\n",
        "\n",
        "dr = diff(r,t)\n",
        "d2r = diff(dr,t)\n",
        "\n",
        "rho = simplify((r**2+dr**2)**1.5)/(r**2+2*(dr**2) - r*d2r)\n",
        "\n",
        "display(simplify(rho))\n",
        "\n",
        "t1 = pi/2\n",
        "\n",
        "rhosubst = rho.subs(t,pi/2)\n",
        "\n",
        "display(rhosubst)"
      ],
      "metadata": {
        "colab": {
          "base_uri": "https://localhost:8080/",
          "height": 105
        },
        "id": "fZKRqxFWnCoA",
        "outputId": "dfba896b-c00a-442e-ddbb-f93bca605ad8"
      },
      "execution_count": 97,
      "outputs": [
        {
          "output_type": "display_data",
          "data": {
            "text/plain": [
              "0.942809041582063*(a**2*(1 - cos(t)))**1.5/(a**2*(1 - cos(t)))"
            ],
            "text/latex": "$\\displaystyle \\frac{0.942809041582063 \\left(a^{2} \\left(1 - \\cos{\\left(t \\right)}\\right)\\right)^{1.5}}{a^{2} \\left(1 - \\cos{\\left(t \\right)}\\right)}$"
          },
          "metadata": {}
        },
        {
          "output_type": "display_data",
          "data": {
            "text/plain": [
              "0.942809041582063*(a**2)**1.5/a**2"
            ],
            "text/latex": "$\\displaystyle \\frac{0.942809041582063 \\left(a^{2}\\right)^{1.5}}{a^{2}}$"
          },
          "metadata": {}
        }
      ]
    },
    {
      "cell_type": "code",
      "source": [],
      "metadata": {
        "id": "nKMtmloYoe0p"
      },
      "execution_count": null,
      "outputs": []
    }
  ],
  "metadata": {
    "colab": {
      "provenance": [],
      "authorship_tag": "ABX9TyPf17IGYriSCkpUL3Kyk+cM",
      "include_colab_link": true
    },
    "kernelspec": {
      "display_name": "Python 3",
      "name": "python3"
    },
    "language_info": {
      "name": "python",
      "version": "3.13.0"
    }
  },
  "nbformat": 4,
  "nbformat_minor": 0
}